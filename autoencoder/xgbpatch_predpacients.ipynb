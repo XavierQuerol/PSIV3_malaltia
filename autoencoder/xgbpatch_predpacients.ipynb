{
 "cells": [
  {
   "cell_type": "code",
   "execution_count": 1,
   "metadata": {},
   "outputs": [],
   "source": [
    "from model_autoencoder import Autoencoder\n",
    "from dataset import Dataset\n",
    "import torch\n",
    "import os\n",
    "import pandas as pd\n",
    "import cv2\n",
    "import numpy as np\n",
    "from sklearn.metrics import roc_curve, auc, recall_score, accuracy_score\n",
    "import sklearn.metrics as metrics\n",
    "import matplotlib.pyplot as plt\n",
    "from torchvision import transforms\n",
    "from torchvision.io import read_image\n",
    "from config import *"
   ]
  },
  {
   "cell_type": "code",
   "execution_count": 2,
   "metadata": {},
   "outputs": [],
   "source": [
    "model = Autoencoder()\n",
    "model.load_state_dict(torch.load(SAVED_MODEL))\n",
    "\n",
    "metadata = pd.read_csv(METADATA_FILE)\n",
    "window_metadata = pd.read_csv(WINDOW_METADATA_FILE)\n",
    "\n",
    "directories_an = [dir.path for dir in os.scandir(ANNOTATED_PATCHES_DIR) if dir.is_dir()]\n",
    "directories_cr = [dir.path for dir in os.scandir(CROPPED_PATCHES_DIR) if dir.is_dir()]"
   ]
  },
  {
   "cell_type": "code",
   "execution_count": 3,
   "metadata": {},
   "outputs": [],
   "source": [
    "transform = transforms.Compose([\n",
    "    transforms.Resize((128, 128), antialias=True),\n",
    "    transforms.Normalize(mean=[0.5], std=[0.5])])"
   ]
  },
  {
   "cell_type": "code",
   "execution_count": 4,
   "metadata": {},
   "outputs": [],
   "source": [
    "def red_pixels(img):\n",
    "    img = img.permute(1, 2, 0).detach().numpy()\n",
    "    img = (img * 255).astype(np.uint8)\n",
    "    img = cv2.cvtColor(img, cv2.COLOR_RGB2HSV)\n",
    "    lower_limit = 340\n",
    "    upper_limit = 20\n",
    "    count = ((img[:, :, 0] >= lower_limit) | (img[:, :, 0] <= upper_limit)).sum()\n",
    "\n",
    "    return count"
   ]
  },
  {
   "cell_type": "code",
   "execution_count": 6,
   "metadata": {},
   "outputs": [
    {
     "name": "stderr",
     "output_type": "stream",
     "text": [
      "/tmp/ipykernel_1231448/2707539380.py:11: DeprecationWarning: The truth value of an empty array is ambiguous. Returning False, but in future this will result in an error. Use `array.size > 0` to check that an array is not empty.\n",
      "  if window_metadata.loc[window_metadata[\"ID\"] == str(dir.split(\"/\")[-1])+\".\"+file[:-4], \"Presence\"].values == -1:\n"
     ]
    }
   ],
   "source": [
    "#Llegir dades Annotated per entrenar xgboost per predir proba patches\n",
    "target_patch = []\n",
    "ror_train = []\n",
    "rout_train = []\n",
    "\n",
    "for dir in directories_an:\n",
    "    if metadata.loc[metadata[\"CODI\"] == dir.split(\"/\")[-1].split(\"_\")[0], \"DENSITAT\"].values[0] == \"NEGATIVA\":\n",
    "        target_pac_train.append(0)\n",
    "    else:\n",
    "        target_pac_train.append(1)\n",
    "    files = os.listdir(dir)\n",
    "    if len(files) == 0:\n",
    "        continue\n",
    "    for file in files:\n",
    "        if window_metadata.loc[window_metadata[\"ID\"] == str(dir.split(\"/\")[-1])+\".\"+file[:-4], \"Presence\"].values == -1:\n",
    "            target_patch.append(0)\n",
    "        else:\n",
    "            target_patch.append(1)\n",
    "        img = read_image(os.path.join(dir, file))[:-1,:,:]\n",
    "        img = img.to(torch.float32)\n",
    "        img = img/255\n",
    "        img = transform(img)\n",
    "        model.eval()\n",
    "        img_processed = model(img, \"autoencoder\")\n",
    "        red_pixels_original = red_pixels(img)\n",
    "        red_pixels_output = red_pixels(img_processed)\n",
    "        ror_train.append(red_pixels_original)\n",
    "        rout_train.append(red_pixels_output)\n",
    "        test = pd.DataFrame({\"Red_Original\": [red_pixels_original], \"Red_Output\": [red_pixels_output]})"
   ]
  },
  {
   "cell_type": "code",
   "execution_count": 7,
   "metadata": {},
   "outputs": [],
   "source": [
    "df_train = pd.DataFrame({\"Red_Original\": ror_train, \"Red_Output\": rout_train, \"Target\": target_patch})"
   ]
  },
  {
   "cell_type": "code",
   "execution_count": 8,
   "metadata": {},
   "outputs": [],
   "source": [
    "from sklearn.ensemble import GradientBoostingClassifier\n",
    "from sklearn.model_selection import train_test_split\n",
    "from sklearn.metrics import accuracy_score, confusion_matrix, classification_report"
   ]
  },
  {
   "cell_type": "code",
   "execution_count": 12,
   "metadata": {},
   "outputs": [],
   "source": [
    "#X_train = df_train.drop(columns=['Target'])\n",
    "#y_train = df_train['Target']\n",
    "X_train, X_test, y_train, y_test = train_test_split(df_train.drop(columns=['Target']), df_train['Target'], test_size=0.2, random_state=42)"
   ]
  },
  {
   "cell_type": "code",
   "execution_count": 13,
   "metadata": {},
   "outputs": [],
   "source": [
    "sample_weights = np.zeros(len(y_train))\n",
    "sample_weights[y_train == 0] = 1\n",
    "sample_weights[y_train == 1] = (len(y_train)-sum(y_train))/sum(y_train)"
   ]
  },
  {
   "cell_type": "code",
   "execution_count": 14,
   "metadata": {},
   "outputs": [],
   "source": [
    "# Create a GradientBoostingClassifier for binary classification\n",
    "gb_classifier = GradientBoostingClassifier(\n",
    "    n_estimators=100,           # Number of boosting rounds (trees to build)\n",
    "    learning_rate=0.1,          # Step size shrinkage to prevent overfitting\n",
    "    max_depth=3,                # Maximum depth of a tree\n",
    "    random_state=42,             # Seed for reproducibility\n",
    ")"
   ]
  },
  {
   "cell_type": "code",
   "execution_count": 15,
   "metadata": {},
   "outputs": [
    {
     "data": {
      "text/plain": [
       "GradientBoostingClassifier(random_state=42)"
      ]
     },
     "execution_count": 15,
     "metadata": {},
     "output_type": "execute_result"
    }
   ],
   "source": [
    "# Train the classifier on the training data\n",
    "gb_classifier.fit(X_train, y_train, sample_weight=sample_weights)"
   ]
  },
  {
   "cell_type": "code",
   "execution_count": 16,
   "metadata": {},
   "outputs": [],
   "source": [
    "y_pred = gb_classifier.predict_proba(X_test)"
   ]
  },
  {
   "cell_type": "code",
   "execution_count": 17,
   "metadata": {},
   "outputs": [
    {
     "data": {
      "image/png": "[encoded data removed]",
      "text/plain": [
       "<Figure size 576x432 with 1 Axes>"
      ]
     },
     "metadata": {
      "needs_background": "light"
     },
     "output_type": "display_data"
    }
   ],
   "source": [
    "fpr2, tpr2, thresholds2 = roc_curve(y_test, y_pred[:,1])\n",
    "roc_auc2 = auc(fpr2, tpr2)\n",
    "plt.figure(figsize=(8, 6))\n",
    "plt.plot(fpr2, tpr2, color='darkorange', lw=2, label=f'ROC curve patches (AUC = {roc_auc2:.2f})')\n",
    "plt.plot([0, 1], [0, 1], color='navy', lw=2, linestyle='--')\n",
    "plt.xlim([0.0, 1.0])\n",
    "plt.ylim([0.0, 1.05])\n",
    "plt.xlabel('False Positive Rate')\n",
    "plt.ylabel('True Positive Rate')\n",
    "plt.title('Receiver Operating Characteristic')\n",
    "plt.legend(loc='lower right')\n",
    "plt.savefig(f\"{PLOT_LOSS_DIR}ROCcurve2.png\")"
   ]
  },
  {
   "cell_type": "code",
   "execution_count": 18,
   "metadata": {},
   "outputs": [
    {
     "name": "stdout",
     "output_type": "stream",
     "text": [
      "0.132848738225855\n"
     ]
    }
   ],
   "source": [
    "J2 = tpr2 - fpr2\n",
    "best_threshold2 = thresholds2[np.argmax(J2)]\n",
    "print(best_threshold2)"
   ]
  },
  {
   "cell_type": "code",
   "execution_count": 19,
   "metadata": {},
   "outputs": [],
   "source": [
    "predicted_labels2 = [0 if p < best_threshold2 else 1 for p in y_pred[:,1]]"
   ]
  },
  {
   "cell_type": "code",
   "execution_count": 20,
   "metadata": {},
   "outputs": [
    {
     "name": "stdout",
     "output_type": "stream",
     "text": [
      "Confusion matrix patches:\n",
      "[[185  36]\n",
      " [  1  44]]\n"
     ]
    }
   ],
   "source": [
    "# Calculate the confusion matrix\n",
    "confusion_matrix2 = metrics.confusion_matrix(y_test, predicted_labels2)\n",
    "\n",
    "# Print the confusion matrix\n",
    "print(\"Confusion matrix patches:\")\n",
    "print(confusion_matrix2)"
   ]
  },
  {
   "cell_type": "code",
   "execution_count": 21,
   "metadata": {},
   "outputs": [
    {
     "data": {
      "text/plain": [
       "(0.9777777777777777, 0.8609022556390977)"
      ]
     },
     "execution_count": 21,
     "metadata": {},
     "output_type": "execute_result"
    }
   ],
   "source": [
    "recall_score(y_test, predicted_labels2), accuracy_score(y_test, predicted_labels2)"
   ]
  },
  {
   "cell_type": "code",
   "execution_count": 22,
   "metadata": {},
   "outputs": [
    {
     "data": {
      "text/plain": [
       "array([[0.76861083, 0.23138917]])"
      ]
     },
     "execution_count": 22,
     "metadata": {},
     "output_type": "execute_result"
    }
   ],
   "source": [
    "p = pd.DataFrame({\"Red_Original\": [7], \"Red_Output\": [4]})\n",
    "gb_classifier.predict_proba(p)"
   ]
  },
  {
   "cell_type": "code",
   "execution_count": 117,
   "metadata": {},
   "outputs": [],
   "source": [
    "#Llegir dades Crop per predir patches amb xgboost previament entrenat\n",
    "target_pac = []\n",
    "ror_test = []\n",
    "rout_test = []\n",
    "props = []\n",
    "\n",
    "for dir in directories_cr[50:60]:\n",
    "    if metadata.loc[metadata[\"CODI\"] == dir.split(\"/\")[-1].split(\"_\")[0], \"DENSITAT\"].values[0] == \"NEGATIVA\":\n",
    "        target_pac.append(0)\n",
    "    else:\n",
    "        target_pac.append(1)\n",
    "    files = os.listdir(dir)\n",
    "    if len(files) == 0:\n",
    "        continue\n",
    "    pred_patch = []\n",
    "    for file in files:\n",
    "        img = read_image(os.path.join(dir, file))[:-1,:,:]\n",
    "        img = img.to(torch.float32)\n",
    "        img = img/255\n",
    "        img = transform(img)\n",
    "        model.eval()\n",
    "        img_processed = model(img, \"autoencoder\")\n",
    "        red_pixels_original = red_pixels(img)\n",
    "        red_pixels_output = red_pixels(img_processed)\n",
    "        test = pd.DataFrame({\"Red_Original\": [red_pixels_original], \"Red_Output\": [red_pixels_output]})\n",
    "        pred = gb_classifier.predict_proba(test)\n",
    "        if pred[:,1] >= best_threshold2:\n",
    "            pred_patch.append(1)\n",
    "        else:\n",
    "            pred_patch.append(0)\n",
    "    props.append(sum(pred_patch)/len(files))\n",
    "        \n"
   ]
  },
  {
   "cell_type": "code",
   "execution_count": 118,
   "metadata": {},
   "outputs": [],
   "source": [
    "final_results = pd.DataFrame({\"Target\": target_pac, \"Prop\": props})"
   ]
  },
  {
   "cell_type": "code",
   "execution_count": 119,
   "metadata": {},
   "outputs": [
    {
     "data": {
      "image/png": "[encoded data removed]",
      "text/plain": [
       "<Figure size 576x432 with 1 Axes>"
      ]
     },
     "metadata": {
      "needs_background": "light"
     },
     "output_type": "display_data"
    }
   ],
   "source": [
    "fpr2, tpr2, thresholds2 = roc_curve(final_results['Target'], final_results['Prop'])\n",
    "roc_auc2 = auc(fpr2, tpr2)\n",
    "plt.figure(figsize=(8, 6))\n",
    "plt.plot(fpr2, tpr2, color='darkorange', lw=2, label=f'ROC curve patches (AUC = {roc_auc2:.2f})')\n",
    "plt.plot([0, 1], [0, 1], color='navy', lw=2, linestyle='--')\n",
    "plt.xlim([0.0, 1.0])\n",
    "plt.ylim([0.0, 1.05])\n",
    "plt.xlabel('False Positive Rate')\n",
    "plt.ylabel('True Positive Rate')\n",
    "plt.title('Receiver Operating Characteristic')\n",
    "plt.legend(loc='lower right')\n",
    "plt.savefig(f\"{PLOT_LOSS_DIR}ROCcurve2.png\")"
   ]
  },
  {
   "cell_type": "code",
   "execution_count": 120,
   "metadata": {},
   "outputs": [
    {
     "data": {
      "text/html": [
       "<div>\n",
       "<style scoped>\n",
       "    .dataframe tbody tr th:only-of-type {\n",
       "        vertical-align: middle;\n",
       "    }\n",
       "\n",
       "    .dataframe tbody tr th {\n",
       "        vertical-align: top;\n",
       "    }\n",
       "\n",
       "    .dataframe thead th {\n",
       "        text-align: right;\n",
       "    }\n",
       "</style>\n",
       "<table border=\"1\" class=\"dataframe\">\n",
       "  <thead>\n",
       "    <tr style=\"text-align: right;\">\n",
       "      <th></th>\n",
       "      <th>Target</th>\n",
       "      <th>Prop</th>\n",
       "    </tr>\n",
       "  </thead>\n",
       "  <tbody>\n",
       "    <tr>\n",
       "      <th>0</th>\n",
       "      <td>0</td>\n",
       "      <td>0.996500</td>\n",
       "    </tr>\n",
       "    <tr>\n",
       "      <th>1</th>\n",
       "      <td>0</td>\n",
       "      <td>0.512472</td>\n",
       "    </tr>\n",
       "    <tr>\n",
       "      <th>2</th>\n",
       "      <td>0</td>\n",
       "      <td>1.000000</td>\n",
       "    </tr>\n",
       "    <tr>\n",
       "      <th>3</th>\n",
       "      <td>1</td>\n",
       "      <td>1.000000</td>\n",
       "    </tr>\n",
       "    <tr>\n",
       "      <th>4</th>\n",
       "      <td>0</td>\n",
       "      <td>0.999407</td>\n",
       "    </tr>\n",
       "    <tr>\n",
       "      <th>5</th>\n",
       "      <td>1</td>\n",
       "      <td>0.677918</td>\n",
       "    </tr>\n",
       "    <tr>\n",
       "      <th>6</th>\n",
       "      <td>0</td>\n",
       "      <td>0.431639</td>\n",
       "    </tr>\n",
       "    <tr>\n",
       "      <th>7</th>\n",
       "      <td>1</td>\n",
       "      <td>0.665079</td>\n",
       "    </tr>\n",
       "    <tr>\n",
       "      <th>8</th>\n",
       "      <td>1</td>\n",
       "      <td>0.434515</td>\n",
       "    </tr>\n",
       "    <tr>\n",
       "      <th>9</th>\n",
       "      <td>0</td>\n",
       "      <td>0.509398</td>\n",
       "    </tr>\n",
       "  </tbody>\n",
       "</table>\n",
       "</div>"
      ],
      "text/plain": [
       "   Target      Prop\n",
       "0       0  0.996500\n",
       "1       0  0.512472\n",
       "2       0  1.000000\n",
       "3       1  1.000000\n",
       "4       0  0.999407\n",
       "5       1  0.677918\n",
       "6       0  0.431639\n",
       "7       1  0.665079\n",
       "8       1  0.434515\n",
       "9       0  0.509398"
      ]
     },
     "execution_count": 120,
     "metadata": {},
     "output_type": "execute_result"
    }
   ],
   "source": [
    "final_results"
   ]
  },
  {
   "cell_type": "code",
   "execution_count": 121,
   "metadata": {},
   "outputs": [
    {
     "name": "stdout",
     "output_type": "stream",
     "text": [
      "0.6650786088613626\n"
     ]
    }
   ],
   "source": [
    "J2 = tpr2 - fpr2\n",
    "best_threshold2 = thresholds2[np.argmax(J2)]\n",
    "print(best_threshold2)"
   ]
  },
  {
   "cell_type": "code",
   "execution_count": 122,
   "metadata": {},
   "outputs": [],
   "source": [
    "predicted_labels2 = [0 if p < best_threshold2 else 1 for p in final_results['Prop']]"
   ]
  },
  {
   "cell_type": "code",
   "execution_count": 123,
   "metadata": {},
   "outputs": [
    {
     "name": "stdout",
     "output_type": "stream",
     "text": [
      "Confusion matrix patches:\n",
      "[[3 3]\n",
      " [1 3]]\n"
     ]
    }
   ],
   "source": [
    "# Calculate the confusion matrix\n",
    "confusion_matrix2 = metrics.confusion_matrix(final_results['Target'], predicted_labels2)\n",
    "\n",
    "# Print the confusion matrix\n",
    "print(\"Confusion matrix patches:\")\n",
    "print(confusion_matrix2)"
   ]
  },
  {
   "cell_type": "code",
   "execution_count": 124,
   "metadata": {},
   "outputs": [
    {
     "data": {
      "text/plain": [
       "(0.75, 0.6)"
      ]
     },
     "execution_count": 124,
     "metadata": {},
     "output_type": "execute_result"
    }
   ],
   "source": [
    "recall_score(final_results['Target'], predicted_labels2), accuracy_score(final_results['Target'], predicted_labels2)"
   ]
  },
  {
   "cell_type": "code",
   "execution_count": null,
   "metadata": {},
   "outputs": [],
   "source": []
  },
  {
   "cell_type": "code",
   "execution_count": null,
   "metadata": {},
   "outputs": [],
   "source": []
  }
 ],
 "metadata": {
  "kernelspec": {
   "display_name": "psiv1",
   "language": "python",
   "name": "python3"
  },
  "language_info": {
   "codemirror_mode": {
    "name": "ipython",
    "version": 3
   },
   "file_extension": ".py",
   "mimetype": "text/x-python",
   "name": "python",
   "nbconvert_exporter": "python",
   "pygments_lexer": "ipython3",
   "version": "3.8.10"
  }
 },
 "nbformat": 4,
 "nbformat_minor": 2
}
