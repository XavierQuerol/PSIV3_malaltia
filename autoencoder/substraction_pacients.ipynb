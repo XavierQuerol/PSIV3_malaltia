{
 "cells": [
  {
   "cell_type": "code",
   "execution_count": 53,
   "metadata": {},
   "outputs": [],
   "source": [
    "from model_autoencoder import Autoencoder\n",
    "from dataset import Dataset\n",
    "import torch\n",
    "import os\n",
    "import pandas as pd\n",
    "import cv2\n",
    "import numpy as np\n",
    "from sklearn.metrics import roc_curve, auc, recall_score\n",
    "import sklearn.metrics as metrics\n",
    "import matplotlib.pyplot as plt\n",
    "from torchvision import transforms\n",
    "from torchvision.io import read_image\n",
    "from config import SAVED_MODEL, ANNOTATED_PATCHES_DIR, METADATA_FILE, WINDOW_METADATA_FILE, PLOT_LOSS_DIR"
   ]
  },
  {
   "cell_type": "code",
   "execution_count": 2,
   "metadata": {},
   "outputs": [],
   "source": [
    "model = Autoencoder()\n",
    "model.load_state_dict(torch.load(SAVED_MODEL))\n",
    "\n",
    "metadata = pd.read_csv(METADATA_FILE)\n",
    "window_metadata = pd.read_csv(WINDOW_METADATA_FILE)\n",
    "\n",
    "directories = [dir.path for dir in os.scandir(ANNOTATED_PATCHES_DIR) if dir.is_dir()]"
   ]
  },
  {
   "cell_type": "code",
   "execution_count": 3,
   "metadata": {},
   "outputs": [],
   "source": [
    "transform = transforms.Compose([\n",
    "    transforms.Resize((128, 128), antialias=True),\n",
    "    transforms.Normalize(mean=[0.5], std=[0.5])])"
   ]
  },
  {
   "cell_type": "code",
   "execution_count": 4,
   "metadata": {},
   "outputs": [],
   "source": [
    "def red_pixels(img):\n",
    "    img = img.permute(1, 2, 0).detach().numpy()\n",
    "    img = (img * 255).astype(np.uint8)\n",
    "    img = cv2.cvtColor(img, cv2.COLOR_RGB2HSV)\n",
    "    lower_limit = 340\n",
    "    upper_limit = 20\n",
    "    count = ((img[:, :, 0] >= lower_limit) | (img[:, :, 0] <= upper_limit)).sum()\n",
    "\n",
    "    return count"
   ]
  },
  {
   "cell_type": "code",
   "execution_count": 65,
   "metadata": {},
   "outputs": [
    {
     "name": "stderr",
     "output_type": "stream",
     "text": [
      "<ipython-input-65-c9a78f281839>:20: DeprecationWarning: The truth value of an empty array is ambiguous. Returning False, but in future this will result in an error. Use `array.size > 0` to check that an array is not empty.\n",
      "  if window_metadata.loc[window_metadata[\"ID\"] == str(dir.split(\"/\")[-1])+\".\"+file[:-4], \"Presence\"].values == -1:\n"
     ]
    }
   ],
   "source": [
    "targets = []\n",
    "props = []\n",
    "target_patch = []\n",
    "val_ppatch = []\n",
    "prop_pat = []\n",
    "eps = 15\n",
    "dirs_patch = []\n",
    "pred_prova = []\n",
    "\n",
    "for dir in directories:\n",
    "    if metadata.loc[metadata[\"CODI\"] == dir.split(\"/\")[-1].split(\"_\")[0], \"DENSITAT\"].values[0] == \"NEGATIVA\":\n",
    "        target = 0\n",
    "    else:\n",
    "        target = 1\n",
    "    files = os.listdir(dir)\n",
    "    if len(files) == 0:\n",
    "        continue\n",
    "    predict_patches = 0\n",
    "    for file in files:\n",
    "        if window_metadata.loc[window_metadata[\"ID\"] == str(dir.split(\"/\")[-1])+\".\"+file[:-4], \"Presence\"].values == -1:\n",
    "            target_patch.append(0)\n",
    "        else:\n",
    "            target_patch.append(1)\n",
    "        img = read_image(os.path.join(dir, file))[:-1,:,:]\n",
    "        img = img.to(torch.float32)\n",
    "        img = img/255\n",
    "        img = transform(img)\n",
    "        model.eval()\n",
    "        img_processed = model(img, \"autoencoder\")\n",
    "        red_pixels_original = red_pixels(img)\n",
    "        red_pixels_output = red_pixels(img_processed)\n",
    "\n",
    "        if (red_pixels_original+eps)/(red_pixels_output+eps) > 1.4:\n",
    "                predict_patches += 1\n",
    "                val_ppatch.append(1)\n",
    "        else:\n",
    "            val_ppatch.append(0)\n",
    "        prop_pat.append((red_pixels_original+eps)/(red_pixels_output+eps))\n",
    "        dirs_patch.append(dir.split('/')[-1]+'/'+file)\n",
    "    prop = predict_patches/len(files)\n",
    "    if predict_patches > 1:\n",
    "        pred_prova.append(1)\n",
    "    else:\n",
    "        pred_prova.append(0)\n",
    "\n",
    "    targets.append(target)\n",
    "    props.append(prop)"
   ]
  },
  {
   "cell_type": "code",
   "execution_count": 66,
   "metadata": {},
   "outputs": [],
   "source": [
    "final_results2 = pd.DataFrame({\"Target\": target_patch, \"Prop\": prop_pat, \"Dirs\": dirs_patch})"
   ]
  },
  {
   "cell_type": "code",
   "execution_count": 67,
   "metadata": {},
   "outputs": [
    {
     "data": {
      "image/png": "[encoded data removed]",
      "text/plain": [
       "<Figure size 576x432 with 1 Axes>"
      ]
     },
     "metadata": {
      "needs_background": "light"
     },
     "output_type": "display_data"
    }
   ],
   "source": [
    "fpr2, tpr2, thresholds2 = roc_curve(final_results2['Target'], final_results2['Prop'])\n",
    "roc_auc2 = auc(fpr2, tpr2)\n",
    "plt.figure(figsize=(8, 6))\n",
    "plt.plot(fpr2, tpr2, color='darkorange', lw=2, label=f'ROC curve patches (AUC = {roc_auc2:.2f})')\n",
    "plt.plot([0, 1], [0, 1], color='navy', lw=2, linestyle='--')\n",
    "plt.xlim([0.0, 1.0])\n",
    "plt.ylim([0.0, 1.05])\n",
    "plt.xlabel('False Positive Rate')\n",
    "plt.ylabel('True Positive Rate')\n",
    "plt.title('Receiver Operating Characteristic')\n",
    "plt.legend(loc='lower right')\n",
    "plt.savefig(f\"{PLOT_LOSS_DIR}ROCcurve2.png\")"
   ]
  },
  {
   "cell_type": "code",
   "execution_count": 68,
   "metadata": {},
   "outputs": [
    {
     "name": "stdout",
     "output_type": "stream",
     "text": [
      "1.1111111111111112\n"
     ]
    }
   ],
   "source": [
    "J2 = tpr2 - fpr2\n",
    "best_threshold2 = thresholds2[np.argmax(J2)]\n",
    "print(best_threshold2)"
   ]
  },
  {
   "cell_type": "code",
   "execution_count": 69,
   "metadata": {},
   "outputs": [],
   "source": [
    "# Define the target and predicted labels using the best threshold\n",
    "predicted_labels2 = [0 if prob2 < best_threshold2 else 1 for prob2 in prop_pat]"
   ]
  },
  {
   "cell_type": "code",
   "execution_count": 70,
   "metadata": {},
   "outputs": [
    {
     "name": "stdout",
     "output_type": "stream",
     "text": [
      "Confusion matrix patches:\n",
      "[[975 116]\n",
      " [ 20 218]]\n"
     ]
    }
   ],
   "source": [
    "# Calculate the confusion matrix\n",
    "confusion_matrix2 = metrics.confusion_matrix(target_patch, predicted_labels2)\n",
    "\n",
    "# Print the confusion matrix\n",
    "print(\"Confusion matrix patches:\")\n",
    "print(confusion_matrix2)"
   ]
  },
  {
   "cell_type": "code",
   "execution_count": 71,
   "metadata": {},
   "outputs": [],
   "source": [
    "final_results2['Preds'] = predicted_labels2"
   ]
  },
  {
   "cell_type": "code",
   "execution_count": 72,
   "metadata": {},
   "outputs": [
    {
     "data": {
      "text/html": [
       "<div>\n",
       "<style scoped>\n",
       "    .dataframe tbody tr th:only-of-type {\n",
       "        vertical-align: middle;\n",
       "    }\n",
       "\n",
       "    .dataframe tbody tr th {\n",
       "        vertical-align: top;\n",
       "    }\n",
       "\n",
       "    .dataframe thead th {\n",
       "        text-align: right;\n",
       "    }\n",
       "</style>\n",
       "<table border=\"1\" class=\"dataframe\">\n",
       "  <thead>\n",
       "    <tr style=\"text-align: right;\">\n",
       "      <th></th>\n",
       "      <th>Target</th>\n",
       "      <th>Prop</th>\n",
       "      <th>Dirs</th>\n",
       "      <th>Preds</th>\n",
       "    </tr>\n",
       "  </thead>\n",
       "  <tbody>\n",
       "    <tr>\n",
       "      <th>0</th>\n",
       "      <td>0</td>\n",
       "      <td>1.000000</td>\n",
       "      <td>B22-270_0/01134.png</td>\n",
       "      <td>0</td>\n",
       "    </tr>\n",
       "    <tr>\n",
       "      <th>1</th>\n",
       "      <td>0</td>\n",
       "      <td>1.000000</td>\n",
       "      <td>B22-270_0/01133.png</td>\n",
       "      <td>0</td>\n",
       "    </tr>\n",
       "    <tr>\n",
       "      <th>2</th>\n",
       "      <td>0</td>\n",
       "      <td>1.000000</td>\n",
       "      <td>B22-47_0/01236.png</td>\n",
       "      <td>0</td>\n",
       "    </tr>\n",
       "    <tr>\n",
       "      <th>3</th>\n",
       "      <td>0</td>\n",
       "      <td>1.000000</td>\n",
       "      <td>B22-47_0/00285.png</td>\n",
       "      <td>0</td>\n",
       "    </tr>\n",
       "    <tr>\n",
       "      <th>4</th>\n",
       "      <td>0</td>\n",
       "      <td>1.133333</td>\n",
       "      <td>B22-47_0/01549.png</td>\n",
       "      <td>1</td>\n",
       "    </tr>\n",
       "    <tr>\n",
       "      <th>...</th>\n",
       "      <td>...</td>\n",
       "      <td>...</td>\n",
       "      <td>...</td>\n",
       "      <td>...</td>\n",
       "    </tr>\n",
       "    <tr>\n",
       "      <th>1324</th>\n",
       "      <td>0</td>\n",
       "      <td>1.000000</td>\n",
       "      <td>B22-250_0/02948.png</td>\n",
       "      <td>0</td>\n",
       "    </tr>\n",
       "    <tr>\n",
       "      <th>1325</th>\n",
       "      <td>0</td>\n",
       "      <td>0.837209</td>\n",
       "      <td>B22-250_0/01404.png</td>\n",
       "      <td>0</td>\n",
       "    </tr>\n",
       "    <tr>\n",
       "      <th>1326</th>\n",
       "      <td>0</td>\n",
       "      <td>0.937500</td>\n",
       "      <td>B22-250_0/01765.png</td>\n",
       "      <td>0</td>\n",
       "    </tr>\n",
       "    <tr>\n",
       "      <th>1327</th>\n",
       "      <td>0</td>\n",
       "      <td>1.200000</td>\n",
       "      <td>B22-250_0/01121.png</td>\n",
       "      <td>1</td>\n",
       "    </tr>\n",
       "    <tr>\n",
       "      <th>1328</th>\n",
       "      <td>0</td>\n",
       "      <td>0.833333</td>\n",
       "      <td>B22-250_0/01752.png</td>\n",
       "      <td>0</td>\n",
       "    </tr>\n",
       "  </tbody>\n",
       "</table>\n",
       "<p>1329 rows × 4 columns</p>\n",
       "</div>"
      ],
      "text/plain": [
       "      Target      Prop                 Dirs  Preds\n",
       "0          0  1.000000  B22-270_0/01134.png      0\n",
       "1          0  1.000000  B22-270_0/01133.png      0\n",
       "2          0  1.000000   B22-47_0/01236.png      0\n",
       "3          0  1.000000   B22-47_0/00285.png      0\n",
       "4          0  1.133333   B22-47_0/01549.png      1\n",
       "...      ...       ...                  ...    ...\n",
       "1324       0  1.000000  B22-250_0/02948.png      0\n",
       "1325       0  0.837209  B22-250_0/01404.png      0\n",
       "1326       0  0.937500  B22-250_0/01765.png      0\n",
       "1327       0  1.200000  B22-250_0/01121.png      1\n",
       "1328       0  0.833333  B22-250_0/01752.png      0\n",
       "\n",
       "[1329 rows x 4 columns]"
      ]
     },
     "execution_count": 72,
     "metadata": {},
     "output_type": "execute_result"
    }
   ],
   "source": [
    "final_results2"
   ]
  },
  {
   "cell_type": "code",
   "execution_count": 73,
   "metadata": {},
   "outputs": [],
   "source": [
    "\n",
    "final_results = pd.DataFrame({\"Target\": targets, \"Prop\": props})"
   ]
  },
  {
   "cell_type": "code",
   "execution_count": 74,
   "metadata": {},
   "outputs": [
    {
     "data": {
      "image/png": "[encoded data removed]",
      "text/plain": [
       "<Figure size 576x432 with 1 Axes>"
      ]
     },
     "metadata": {
      "needs_background": "light"
     },
     "output_type": "display_data"
    }
   ],
   "source": [
    "fpr, tpr, thresholds = roc_curve(final_results['Target'], final_results['Prop'])\n",
    "roc_auc = auc(fpr, tpr)\n",
    "plt.figure(figsize=(8, 6))\n",
    "plt.plot(fpr, tpr, color='darkorange', lw=2, label=f'ROC curve (AUC = {roc_auc:.2f})')\n",
    "plt.plot([0, 1], [0, 1], color='navy', lw=2, linestyle='--')\n",
    "plt.xlim([0.0, 1.0])\n",
    "plt.ylim([0.0, 1.05])\n",
    "plt.xlabel('False Positive Rate')\n",
    "plt.ylabel('True Positive Rate')\n",
    "plt.title('Receiver Operating Characteristic')\n",
    "plt.legend(loc='lower right')\n",
    "plt.savefig(f\"{PLOT_LOSS_DIR}ROCcurve.png\")"
   ]
  },
  {
   "cell_type": "code",
   "execution_count": 48,
   "metadata": {},
   "outputs": [
    {
     "name": "stdout",
     "output_type": "stream",
     "text": [
      "0.25\n"
     ]
    }
   ],
   "source": [
    "\n",
    "J = tpr - fpr\n",
    "best_threshold = thresholds[np.argmax(J)]\n",
    "print(best_threshold)"
   ]
  },
  {
   "cell_type": "code",
   "execution_count": 62,
   "metadata": {},
   "outputs": [],
   "source": [
    "# Define the target and predicted labels using the best threshold\n",
    "predicted_labels = [0 if prob < 0.01 else 1 for prob in props]"
   ]
  },
  {
   "cell_type": "code",
   "execution_count": 63,
   "metadata": {},
   "outputs": [],
   "source": [
    "# Calculate the confusion matrix\n",
    "confusion_matrix = metrics.confusion_matrix(targets, predicted_labels)"
   ]
  },
  {
   "cell_type": "code",
   "execution_count": 56,
   "metadata": {},
   "outputs": [],
   "source": [
    "confusion_matrix = metrics.confusion_matrix(targets, predictes)"
   ]
  },
  {
   "cell_type": "code",
   "execution_count": 64,
   "metadata": {},
   "outputs": [
    {
     "name": "stdout",
     "output_type": "stream",
     "text": [
      "Confusion matrix:\n",
      "[[34 13]\n",
      " [18 61]]\n"
     ]
    }
   ],
   "source": [
    "# Print the confusion matrix\n",
    "print(\"Confusion matrix:\")\n",
    "print(confusion_matrix)"
   ]
  },
  {
   "cell_type": "code",
   "execution_count": 58,
   "metadata": {},
   "outputs": [
    {
     "data": {
      "text/plain": [
       "0.7468354430379747"
      ]
     },
     "execution_count": 58,
     "metadata": {},
     "output_type": "execute_result"
    }
   ],
   "source": [
    "recall_score(targets, predicted_labels)"
   ]
  },
  {
   "cell_type": "code",
   "execution_count": null,
   "metadata": {},
   "outputs": [],
   "source": []
  }
 ],
 "metadata": {
  "kernelspec": {
   "display_name": "psiv1",
   "language": "python",
   "name": "python3"
  },
  "language_info": {
   "codemirror_mode": {
    "name": "ipython",
    "version": 3
   },
   "file_extension": ".py",
   "mimetype": "text/x-python",
   "name": "python",
   "nbconvert_exporter": "python",
   "pygments_lexer": "ipython3",
   "version": "3.8.10"
  }
 },
 "nbformat": 4,
 "nbformat_minor": 2
}
