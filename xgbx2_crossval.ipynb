{
 "cells": [
  {
   "cell_type": "markdown",
   "metadata": {},
   "source": [
    "Imports"
   ]
  },
  {
   "cell_type": "code",
   "execution_count": 64,
   "metadata": {},
   "outputs": [],
   "source": [
    "import torch\n",
    "import os\n",
    "import cv2\n",
    "import random\n",
    "\n",
    "import pandas as pd\n",
    "import numpy as np\n",
    "import matplotlib.pyplot as plt\n",
    "\n",
    "from config import *\n",
    "from utils import *\n",
    "\n",
    "from model_autoencoder import Autoencoder\n",
    "from sklearn.metrics import roc_curve, auc, recall_score, accuracy_score, confusion_matrix, precision_score, f1_score\n",
    "from torchvision import transforms\n",
    "from torchvision.io import read_image\n",
    "from sklearn.ensemble import GradientBoostingClassifier\n",
    "from sklearn.model_selection import train_test_split, cross_val_score\n"
   ]
  },
  {
   "cell_type": "markdown",
   "metadata": {},
   "source": [
    "Carregar model autoencoder i variables bàsiques globals"
   ]
  },
  {
   "cell_type": "code",
   "execution_count": 2,
   "metadata": {},
   "outputs": [],
   "source": [
    "model = Autoencoder()\n",
    "model.load_state_dict(torch.load(SAVED_MODEL, map_location = torch.device('cpu')))\n",
    "\n",
    "metadata = pd.read_csv(METADATA_FILE)\n",
    "window_metadata = pd.read_csv(WINDOW_METADATA_FILE)\n",
    "\n",
    "directories_an = [dir.path for dir in os.scandir(ANNOTATED_PATCHES_DIR) if dir.is_dir()]\n",
    "directories_cr = [dir.path for dir in os.scandir(CROPPED_PATCHES_DIR) if dir.is_dir()]"
   ]
  },
  {
   "cell_type": "markdown",
   "metadata": {},
   "source": [
    "Definim funcions i altres que farem servir més endavant"
   ]
  },
  {
   "cell_type": "code",
   "execution_count": 3,
   "metadata": {},
   "outputs": [],
   "source": [
    "transform = transforms.Compose([\n",
    "    transforms.Resize((64,64), antialias=True),\n",
    "    transforms.Normalize(mean=[0.5], std=[0.5])])\n",
    "\n",
    "transform_un = transforms.Compose([\n",
    "    transforms.Normalize(mean=[-0.5/0.5], std=[1/0.5])])"
   ]
  },
  {
   "cell_type": "code",
   "execution_count": 4,
   "metadata": {},
   "outputs": [],
   "source": [
    "def red_pixels(img):\n",
    "    img = img.permute(1, 2, 0).detach().numpy()\n",
    "    img = (img * 255).astype(np.uint8)\n",
    "    img = cv2.cvtColor(img, cv2.COLOR_RGB2HSV)\n",
    "    lower_limit = 340\n",
    "    upper_limit = 20\n",
    "    count = ((img[:, :, 0] >= lower_limit) | (img[:, :, 0] <= upper_limit)).sum()\n",
    "\n",
    "    return count"
   ]
  },
  {
   "cell_type": "code",
   "execution_count": 5,
   "metadata": {},
   "outputs": [],
   "source": [
    "def df_predpac(directori, model_autoe, model_pred ):\n",
    "    targets = []\n",
    "    targets2 = []\n",
    "    props = []\n",
    "    r_or = []\n",
    "    r_out = []\n",
    "    max_pats = []\n",
    "    mean_pats = []\n",
    "    std_pats = []\n",
    "    quantil1 = []\n",
    "    quantil2 = []\n",
    "    quantil3 = []\n",
    "    restes = []\n",
    "    eps=0.001\n",
    "    n = 50\n",
    "\n",
    "\n",
    "    for dir in directori:\n",
    "        if metadata.loc[metadata[\"CODI\"] == dir.split(\"/\")[-1].split(\"_\")[0], \"DENSITAT\"].values[0] == \"NEGATIVA\":\n",
    "            target = 0\n",
    "        elif metadata.loc[metadata[\"CODI\"] == dir.split(\"/\")[-1].split(\"_\")[0], \"DENSITAT\"].values[0] == \"ALTA\":\n",
    "            target = 1\n",
    "        else:\n",
    "            continue\n",
    "        files = os.listdir(dir)\n",
    "        random.shuffle(files)\n",
    "        if len(files) == 0:\n",
    "            continue\n",
    "        if len(files) > n:\n",
    "            files = files[:n]\n",
    "        predict_patches = 0\n",
    "        prop_pac = []\n",
    "        resta = []\n",
    "        for file in files:\n",
    "            if window_metadata.loc[window_metadata[\"ID\"] == str(dir.split(\"/\")[-1])+\".\"+file[:-4], \"Presence\"].values == -1:\n",
    "                targets2.append(0)\n",
    "            elif window_metadata.loc[window_metadata[\"ID\"] == str(dir.split(\"/\")[-1])+\".\"+file[:-4], \"Presence\"].values == 1:\n",
    "                targets2.append(1)\n",
    "            else:\n",
    "                continue\n",
    "                targets2.append(1)\n",
    "            img = read_image(os.path.join(dir, file))[:-1,:,:]\n",
    "            img = img.to(torch.float32)\n",
    "            img = img/255\n",
    "            img = transform(img)\n",
    "            model_autoe.eval()\n",
    "            img_processed = model_autoe(img, \"autoencoder\")\n",
    "            red_pixels_original = red_pixels(transform_un(img))\n",
    "            red_pixels_output = red_pixels(transform_un(img_processed))\n",
    "            test = pd.DataFrame({\"Red_Original\": [red_pixels_original], \"Red_Output\": [red_pixels_output]})\n",
    "            pred = model_pred.predict_proba(test)\n",
    "            r_or.append(red_pixels_original)\n",
    "            r_out.append(red_pixels_output)\n",
    "            if pred[:,1] >= 0.5:\n",
    "                prop_pac.append(1)\n",
    "                predict_patches += 1\n",
    "            else:\n",
    "                prop_pac.append(0)\n",
    "            resta.append(abs(-red_pixels_output+red_pixels_original))\n",
    "        if len(prop_pac) != 0:\n",
    "            prop_pac = sorted(prop_pac)\n",
    "            max_pat = max(prop_pac)   \n",
    "            mean_pat = sum(prop_pac)/len(prop_pac)  \n",
    "            std_pat = np.std(prop_pac)\n",
    "            quantil1.append(prop_pac[int(len(prop_pac)/10)*7]) \n",
    "            quantil2.append(prop_pac[int(len(prop_pac)/10)*8]) \n",
    "            quantil3.append(prop_pac[int(len(prop_pac)/10)*9])\n",
    "            restes.append(max(resta))\n",
    "            prop = predict_patches/len(files)\n",
    "\n",
    "            targets.append(target)\n",
    "            props.append(prop)\n",
    "            max_pats.append(max_pat)\n",
    "            mean_pats.append(mean_pat)\n",
    "            std_pats.append(std_pat)\n",
    "            \n",
    "    return pd.DataFrame({'max': max_pats, 'mean': mean_pats, 'std': std_pats, 'prop': props, 'q1': quantil1, 'q2': quantil2, 'q3': quantil3, 'resta': restes, 'target': targets}), pd.DataFrame({\"Target\": targets2, \"Red_Original\": r_or, \"Red_Output\": r_out})\n"
   ]
  },
  {
   "cell_type": "markdown",
   "metadata": {},
   "source": [
    "Llegim dades d'Annotated. Obtenim els valors de vermell en la imatge original i la de la sortida de l'autoencoder, així com el target. Tot això per crear un dataframe que utilitzem per entrenar un xgboost que farà la predicció dels patches."
   ]
  },
  {
   "cell_type": "code",
   "execution_count": 6,
   "metadata": {},
   "outputs": [
    {
     "name": "stderr",
     "output_type": "stream",
     "text": [
      "/tmp/ipykernel_4005908/2807909155.py:10: DeprecationWarning: The truth value of an empty array is ambiguous. Returning False, but in future this will result in an error. Use `array.size > 0` to check that an array is not empty.\n",
      "  if window_metadata.loc[window_metadata[\"ID\"] == str(dir.split(\"/\")[-1])+\".\"+file[:-4], \"Presence\"].values == -1:\n"
     ]
    }
   ],
   "source": [
    "target_patch = []\n",
    "ror_train = []\n",
    "rout_train = []\n",
    "\n",
    "for dir in directories_an:\n",
    "    files = os.listdir(dir)\n",
    "    if len(files) == 0:\n",
    "        continue\n",
    "    for file in files:\n",
    "        if window_metadata.loc[window_metadata[\"ID\"] == str(dir.split(\"/\")[-1])+\".\"+file[:-4], \"Presence\"].values == -1:\n",
    "            target_patch.append(0)\n",
    "        else:\n",
    "            target_patch.append(1)\n",
    "        img = read_image(os.path.join(dir, file))[:-1,:,:]\n",
    "        img = img.to(torch.float32)\n",
    "        img = img/255\n",
    "        img = transform(img)\n",
    "        model.eval()\n",
    "        img_processed = model(img, \"autoencoder\")\n",
    "        red_pixels_original = red_pixels(transform_un(img))\n",
    "        red_pixels_output = red_pixels(transform_un(img_processed))\n",
    "        ror_train.append(red_pixels_original)\n",
    "        rout_train.append(red_pixels_output)"
   ]
  },
  {
   "cell_type": "code",
   "execution_count": 7,
   "metadata": {},
   "outputs": [],
   "source": [
    "df_train = pd.DataFrame({\"Red_Original\": ror_train, \"Red_Output\": rout_train, \"Target\": target_patch})\n",
    "#X_train, y_train = df_train.drop(columns=['Target']), df_train['Target']\n",
    "X, y = df_train.drop(columns=['Target']), df_train['Target']\n",
    "X_train, X_test, y_train, y_test = train_test_split(X, y, train_size=0.8, shuffle = True, random_state= 42)"
   ]
  },
  {
   "cell_type": "code",
   "execution_count": 8,
   "metadata": {},
   "outputs": [],
   "source": [
    "gb_classifier = GradientBoostingClassifier(\n",
    "    n_estimators=100,           # Number of boosting rounds (trees to build)\n",
    "    learning_rate=0.1,          # Step size shrinkage to prevent overfitting\n",
    "    max_depth=3,                # Maximum depth of a tree\n",
    "    random_state=42,             # Seed for reproducibility\n",
    ")"
   ]
  },
  {
   "cell_type": "markdown",
   "metadata": {},
   "source": [
    "Fem cross validation amb annotated per veure com va el model."
   ]
  },
  {
   "cell_type": "code",
   "execution_count": 9,
   "metadata": {},
   "outputs": [],
   "source": [
    "n_scores = cross_val_score(gb_classifier, df_train.drop(columns=['Target']), df_train['Target'], scoring='roc_auc', cv=5, n_jobs=-1, error_score='raise')"
   ]
  },
  {
   "cell_type": "code",
   "execution_count": 10,
   "metadata": {},
   "outputs": [
    {
     "data": {
      "text/plain": [
       "0.9163500602083717"
      ]
     },
     "execution_count": 10,
     "metadata": {},
     "output_type": "execute_result"
    }
   ],
   "source": [
    "#ROC AUC mitjana crossval 5\n",
    "np.mean(n_scores)"
   ]
  },
  {
   "cell_type": "code",
   "execution_count": 11,
   "metadata": {},
   "outputs": [],
   "source": [
    "n_scores = cross_val_score(gb_classifier, df_train.drop(columns=['Target']), df_train['Target'], scoring='recall', cv=5, n_jobs=-1, error_score='raise')"
   ]
  },
  {
   "cell_type": "code",
   "execution_count": 69,
   "metadata": {},
   "outputs": [
    {
     "data": {
      "text/plain": [
       "0.7395390070921986"
      ]
     },
     "execution_count": 69,
     "metadata": {},
     "output_type": "execute_result"
    }
   ],
   "source": [
    "np.mean(n_scores)"
   ]
  },
  {
   "cell_type": "markdown",
   "metadata": {},
   "source": [
    "Primers resultats amb train i test d'anotated (80-20)"
   ]
  },
  {
   "cell_type": "code",
   "execution_count": 15,
   "metadata": {},
   "outputs": [
    {
     "data": {
      "text/plain": [
       "GradientBoostingClassifier(random_state=42)"
      ]
     },
     "execution_count": 15,
     "metadata": {},
     "output_type": "execute_result"
    }
   ],
   "source": [
    "gb_classifier.fit(X_train, y_train)"
   ]
  },
  {
   "cell_type": "code",
   "execution_count": 16,
   "metadata": {},
   "outputs": [],
   "source": [
    "pred = gb_classifier.predict_proba(X_test)"
   ]
  },
  {
   "cell_type": "code",
   "execution_count": 17,
   "metadata": {},
   "outputs": [
    {
     "name": "stdout",
     "output_type": "stream",
     "text": [
      "Confusion matrix patches:\n",
      "[[212   9]\n",
      " [  8  37]]\n"
     ]
    },
    {
     "data": {
      "text/plain": [
       "(0.8222222222222222,\n",
       " 0.9360902255639098,\n",
       " 0.8043478260869565,\n",
       " 0.8131868131868132)"
      ]
     },
     "execution_count": 17,
     "metadata": {},
     "output_type": "execute_result"
    }
   ],
   "source": [
    "predicted_labels2 = [0 if p < 0.4 else 1 for p in pred[:,1]]\n",
    "\n",
    "# Calculate the confusion matrix\n",
    "confusion_matrix2 = confusion_matrix(y_test, predicted_labels2)\n",
    "\n",
    "# Print the confusion matrix\n",
    "print(\"Confusion matrix patches:\")\n",
    "print(confusion_matrix2)\n",
    "\n",
    "recall_score(y_test, predicted_labels2), accuracy_score(y_test, predicted_labels2), precision_score(y_test, predicted_labels2), f1_score(y_test, predicted_labels2)"
   ]
  },
  {
   "cell_type": "code",
   "execution_count": 18,
   "metadata": {},
   "outputs": [
    {
     "data": {
      "image/png": "[encoded data removed]",
      "text/plain": [
       "<Figure size 432x288 with 2 Axes>"
      ]
     },
     "metadata": {
      "needs_background": "light"
     },
     "output_type": "display_data"
    }
   ],
   "source": [
    "from utils import *\n",
    "plot_confusion_matrix(y_test, predicted_labels2)"
   ]
  },
  {
   "cell_type": "markdown",
   "metadata": {},
   "source": [
    "Entrenem el model amb tots els patches d'annotated, per després predir a cropped"
   ]
  },
  {
   "cell_type": "code",
   "execution_count": 19,
   "metadata": {},
   "outputs": [
    {
     "data": {
      "text/plain": [
       "GradientBoostingClassifier(random_state=42)"
      ]
     },
     "execution_count": 19,
     "metadata": {},
     "output_type": "execute_result"
    }
   ],
   "source": [
    "gb_classifier.fit(X, y)"
   ]
  },
  {
   "cell_type": "markdown",
   "metadata": {},
   "source": [
    "Ara enlloc dels patches d'annotaded, crearem un df per als pacients del mateix directori. Aquest dataframe conté les columnes següents: 'max': max_pats, 'mean': mean_pats, 'std': std_pats, 'prop': props, 'q1': percentil70%, 'q2': percentil80%, 'q3': percentil90%, 'resta': restes, 'target': targets"
   ]
  },
  {
   "cell_type": "code",
   "execution_count": 30,
   "metadata": {},
   "outputs": [],
   "source": [
    "df_train2, final_results = df_predpac(directories_an, model, gb_classifier)"
   ]
  },
  {
   "cell_type": "markdown",
   "metadata": {},
   "source": [
    "Creem un altre xgboost i fem cv pels pacients d'annotated x veure com va el model, ho fem amb el dataset prèviament esmentat"
   ]
  },
  {
   "cell_type": "code",
   "execution_count": 65,
   "metadata": {},
   "outputs": [],
   "source": [
    "gb_classifier2 = GradientBoostingClassifier(\n",
    "    n_estimators=100,           # Number of boosting rounds (trees to build)\n",
    "    learning_rate=0.1,          # Step size shrinkage to prevent overfitting\n",
    "    max_depth=3,                # Maximum depth of a tree\n",
    "    random_state=42,             # Seed for reproducibility\n",
    ")"
   ]
  },
  {
   "cell_type": "code",
   "execution_count": 66,
   "metadata": {},
   "outputs": [],
   "source": [
    "n_scores2 = cross_val_score(gb_classifier2, df_train2.drop(columns=['target']), df_train2['target'], scoring='recall', cv=5, n_jobs=-1, error_score='raise')"
   ]
  },
  {
   "cell_type": "code",
   "execution_count": 67,
   "metadata": {},
   "outputs": [
    {
     "data": {
      "text/plain": [
       "0.7509090909090909"
      ]
     },
     "execution_count": 67,
     "metadata": {},
     "output_type": "execute_result"
    }
   ],
   "source": [
    "np.mean(n_scores2)"
   ]
  },
  {
   "cell_type": "code",
   "execution_count": 69,
   "metadata": {},
   "outputs": [
    {
     "data": {
      "text/plain": [
       "GradientBoostingClassifier(random_state=42)"
      ]
     },
     "execution_count": 69,
     "metadata": {},
     "output_type": "execute_result"
    }
   ],
   "source": [
    "gb_classifier2.fit(df_train2.drop(columns=['target']), df_train2['target'])"
   ]
  },
  {
   "cell_type": "markdown",
   "metadata": {},
   "source": [
    "Creem el dataset de test, és a dir el que conté les mateixes dades que l'anterior però pels pacients que volem predir. En aquest cas els de cropped (per fer-ho agafem 20 patches random per pacient)"
   ]
  },
  {
   "cell_type": "code",
   "execution_count": 38,
   "metadata": {},
   "outputs": [],
   "source": [
    "def df_predpac2(directori, model_autoe, model_pred ):\n",
    "    targets = []\n",
    "    targets2 = []\n",
    "    props = []\n",
    "    r_or = []\n",
    "    r_out = []\n",
    "    max_pats = []\n",
    "    mean_pats = []\n",
    "    std_pats = []\n",
    "    quantil1 = []\n",
    "    quantil2 = []\n",
    "    quantil3 = []\n",
    "    restes = []\n",
    "    eps=0.001\n",
    "    n = 20\n",
    "\n",
    "\n",
    "    for dir in directori:\n",
    "        if metadata.loc[metadata[\"CODI\"] == dir.split(\"/\")[-1].split(\"_\")[0], \"DENSITAT\"].values[0] == \"NEGATIVA\":\n",
    "            target = 0\n",
    "        elif metadata.loc[metadata[\"CODI\"] == dir.split(\"/\")[-1].split(\"_\")[0], \"DENSITAT\"].values[0] == \"ALTA\":\n",
    "            target = 1\n",
    "        else:\n",
    "            continue\n",
    "        files = os.listdir(dir)\n",
    "        random.shuffle(files)\n",
    "        if len(files) == 0:\n",
    "            continue\n",
    "        if len(files) > n:\n",
    "            files = files[:n]\n",
    "        predict_patches = 0\n",
    "        prop_pac = []\n",
    "        resta = []\n",
    "        for file in files:\n",
    "            img = read_image(os.path.join(dir, file))[:-1,:,:]\n",
    "            img = img.to(torch.float32)\n",
    "            img = img/255\n",
    "            img = transform(img)\n",
    "            model_autoe.eval()\n",
    "            img_processed = model_autoe(img, \"autoencoder\")\n",
    "            red_pixels_original = red_pixels(transform_un(img))\n",
    "            red_pixels_output = red_pixels(transform_un(img_processed))\n",
    "            test = pd.DataFrame({\"Red_Original\": [red_pixels_original], \"Red_Output\": [red_pixels_output]})\n",
    "            pred = model_pred.predict_proba(test)\n",
    "            r_or.append(red_pixels_original)\n",
    "            r_out.append(red_pixels_output)\n",
    "            if pred[:,1] >= 0.5:\n",
    "                prop_pac.append(1)\n",
    "                predict_patches += 1\n",
    "            else:\n",
    "                prop_pac.append(0)\n",
    "            resta.append(abs(-red_pixels_output+red_pixels_original))\n",
    "        if len(prop_pac) != 0:\n",
    "            prop_pac = sorted(prop_pac)\n",
    "            max_pat = max(prop_pac)   \n",
    "            mean_pat = sum(prop_pac)/len(prop_pac)  \n",
    "            std_pat = np.std(prop_pac)\n",
    "            quantil1.append(prop_pac[int(len(prop_pac)/10)*7]) \n",
    "            quantil2.append(prop_pac[int(len(prop_pac)/10)*8]) \n",
    "            quantil3.append(prop_pac[int(len(prop_pac)/10)*9])\n",
    "            restes.append(max(resta))\n",
    "            prop = predict_patches/len(files)\n",
    "\n",
    "            targets.append(target)\n",
    "            props.append(prop)\n",
    "            max_pats.append(max_pat)\n",
    "            mean_pats.append(mean_pat)\n",
    "            std_pats.append(std_pat)\n",
    "            \n",
    "    return pd.DataFrame({'max': max_pats, 'mean': mean_pats, 'std': std_pats, 'prop': props, 'q1': quantil1, 'q2': quantil2, 'q3': quantil3, 'resta': restes, 'target': targets}), pd.DataFrame({ \"RedOR\": r_or, \"RedOUT\": r_out})\n"
   ]
  },
  {
   "cell_type": "code",
   "execution_count": 39,
   "metadata": {},
   "outputs": [],
   "source": [
    "df_test, final_results2 = df_predpac2(directories_cr, model, gb_classifier)"
   ]
  },
  {
   "cell_type": "code",
   "execution_count": 27,
   "metadata": {},
   "outputs": [],
   "source": [
    "def read_img(file, dir):\n",
    "    img = read_image(os.path.join(dir, file))[:-1,:,:]\n",
    "    img = img.to(torch.float32)\n",
    "    img = img/255\n",
    "    img = transform(img)\n",
    "    return img\n",
    "\n",
    "props = []\n",
    "targets = []\n",
    "r_or = []\n",
    "r_out = []\n",
    "eps = 0.0001\n",
    "n = 20\n",
    "\n",
    "for dir in directories_cr:\n",
    "    if metadata.loc[metadata[\"CODI\"] == dir.split(\"/\")[-1].split(\"_\")[0], \"DENSITAT\"].values[0] == \"BAIXA\":\n",
    "        continue\n",
    "        target = 1\n",
    "    if metadata.loc[metadata[\"CODI\"] == dir.split(\"/\")[-1].split(\"_\")[0], \"DENSITAT\"].values[0] == \"NEGATIVA\":\n",
    "        target = 0\n",
    "    else:\n",
    "        target = 1\n",
    "\n",
    "    files = os.listdir(dir)\n",
    "    if len(files) > n:\n",
    "            files = files[:n]\n",
    "\n",
    "    predict_patches = 0\n",
    "    patches_seen = 0\n",
    "\n",
    "    for file in files:\n",
    "        patches_seen += 1\n",
    "        img = read_img(file, dir)\n",
    "        model.eval()\n",
    "        img_processed = model(img, \"autoencoder\")\n",
    "        red_pixels_original = red_pixels(transform_un(img))\n",
    "        red_pixels_output = red_pixels(transform_un(img_processed))\n",
    "        r_or.append(red_pixels_original)\n",
    "        r_out.append(red_pixels_output)\n",
    "\n",
    "        if (red_pixels_original+eps)/(red_pixels_output+eps) > 1.0:\n",
    "                predict_patches += 1\n",
    "    \n",
    "    if patches_seen != 0:\n",
    "        prop = predict_patches/patches_seen\n",
    "        \n",
    "        targets.append(target)\n",
    "        props.append(prop)"
   ]
  },
  {
   "cell_type": "markdown",
   "metadata": {},
   "source": [
    "Fem predict proba x saber la prob de cada pacient de ser 1 o 0"
   ]
  },
  {
   "cell_type": "code",
   "execution_count": 40,
   "metadata": {},
   "outputs": [],
   "source": [
    "y_pred = gb_classifier2.predict_proba(df_test.drop(columns=['target']))"
   ]
  },
  {
   "cell_type": "code",
   "execution_count": 52,
   "metadata": {},
   "outputs": [
    {
     "name": "stdout",
     "output_type": "stream",
     "text": [
      "Confusion matrix patches:\n",
      "[[88 29]\n",
      " [ 6 66]]\n"
     ]
    },
    {
     "data": {
      "text/plain": [
       "(0.9166666666666666, 0.8148148148148148)"
      ]
     },
     "execution_count": 52,
     "metadata": {},
     "output_type": "execute_result"
    }
   ],
   "source": [
    "predicted_labels2 = [0 if p < 0.5 else 1 for p in y_pred[:,1]]\n",
    "\n",
    "# Calculate the confusion matrix\n",
    "confusion_matrix2 = confusion_matrix(df_test['target'], predicted_labels2)\n",
    "\n",
    "# Print the confusion matrix\n",
    "print(\"Confusion matrix patches:\")\n",
    "print(confusion_matrix2)\n",
    "\n",
    "recall_score(df_test['target'], predicted_labels2), accuracy_score(df_test['target'], predicted_labels2)"
   ]
  },
  {
   "cell_type": "code",
   "execution_count": 53,
   "metadata": {},
   "outputs": [],
   "source": [
    "from utils import * "
   ]
  },
  {
   "cell_type": "code",
   "execution_count": 54,
   "metadata": {},
   "outputs": [
    {
     "data": {
      "image/png": "[encoded data removed]",
      "text/plain": [
       "<Figure size 432x288 with 2 Axes>"
      ]
     },
     "metadata": {
      "needs_background": "light"
     },
     "output_type": "display_data"
    }
   ],
   "source": [
    "plot_confusion_matrix(df_test['target'], predicted_labels2)"
   ]
  },
  {
   "cell_type": "markdown",
   "metadata": {},
   "source": [
    "PROVA fent servir únicament la variable més correlacionada amb el target per decidir si un pacient és 0 o 1."
   ]
  },
  {
   "cell_type": "code",
   "execution_count": 70,
   "metadata": {},
   "outputs": [
    {
     "data": {
      "text/html": [
       "<div>\n",
       "<style scoped>\n",
       "    .dataframe tbody tr th:only-of-type {\n",
       "        vertical-align: middle;\n",
       "    }\n",
       "\n",
       "    .dataframe tbody tr th {\n",
       "        vertical-align: top;\n",
       "    }\n",
       "\n",
       "    .dataframe thead th {\n",
       "        text-align: right;\n",
       "    }\n",
       "</style>\n",
       "<table border=\"1\" class=\"dataframe\">\n",
       "  <thead>\n",
       "    <tr style=\"text-align: right;\">\n",
       "      <th></th>\n",
       "      <th>max</th>\n",
       "      <th>mean</th>\n",
       "      <th>std</th>\n",
       "      <th>prop</th>\n",
       "      <th>q1</th>\n",
       "      <th>q2</th>\n",
       "      <th>q3</th>\n",
       "      <th>resta</th>\n",
       "      <th>target</th>\n",
       "    </tr>\n",
       "  </thead>\n",
       "  <tbody>\n",
       "    <tr>\n",
       "      <th>max</th>\n",
       "      <td>1.000000</td>\n",
       "      <td>0.661931</td>\n",
       "      <td>0.923845</td>\n",
       "      <td>0.661931</td>\n",
       "      <td>0.486094</td>\n",
       "      <td>0.637558</td>\n",
       "      <td>0.774186</td>\n",
       "      <td>0.437681</td>\n",
       "      <td>0.680772</td>\n",
       "    </tr>\n",
       "    <tr>\n",
       "      <th>mean</th>\n",
       "      <td>0.661931</td>\n",
       "      <td>1.000000</td>\n",
       "      <td>0.838166</td>\n",
       "      <td>1.000000</td>\n",
       "      <td>0.876218</td>\n",
       "      <td>0.859192</td>\n",
       "      <td>0.791245</td>\n",
       "      <td>0.728252</td>\n",
       "      <td>0.787068</td>\n",
       "    </tr>\n",
       "    <tr>\n",
       "      <th>std</th>\n",
       "      <td>0.923845</td>\n",
       "      <td>0.838166</td>\n",
       "      <td>1.000000</td>\n",
       "      <td>0.838166</td>\n",
       "      <td>0.705225</td>\n",
       "      <td>0.856172</td>\n",
       "      <td>0.917390</td>\n",
       "      <td>0.552130</td>\n",
       "      <td>0.845097</td>\n",
       "    </tr>\n",
       "    <tr>\n",
       "      <th>prop</th>\n",
       "      <td>0.661931</td>\n",
       "      <td>1.000000</td>\n",
       "      <td>0.838166</td>\n",
       "      <td>1.000000</td>\n",
       "      <td>0.876218</td>\n",
       "      <td>0.859192</td>\n",
       "      <td>0.791245</td>\n",
       "      <td>0.728252</td>\n",
       "      <td>0.787068</td>\n",
       "    </tr>\n",
       "    <tr>\n",
       "      <th>q1</th>\n",
       "      <td>0.486094</td>\n",
       "      <td>0.876218</td>\n",
       "      <td>0.705225</td>\n",
       "      <td>0.876218</td>\n",
       "      <td>1.000000</td>\n",
       "      <td>0.762432</td>\n",
       "      <td>0.627878</td>\n",
       "      <td>0.589351</td>\n",
       "      <td>0.670946</td>\n",
       "    </tr>\n",
       "    <tr>\n",
       "      <th>q2</th>\n",
       "      <td>0.637558</td>\n",
       "      <td>0.859192</td>\n",
       "      <td>0.856172</td>\n",
       "      <td>0.859192</td>\n",
       "      <td>0.762432</td>\n",
       "      <td>1.000000</td>\n",
       "      <td>0.823520</td>\n",
       "      <td>0.566631</td>\n",
       "      <td>0.856704</td>\n",
       "    </tr>\n",
       "    <tr>\n",
       "      <th>q3</th>\n",
       "      <td>0.774186</td>\n",
       "      <td>0.791245</td>\n",
       "      <td>0.917390</td>\n",
       "      <td>0.791245</td>\n",
       "      <td>0.627878</td>\n",
       "      <td>0.823520</td>\n",
       "      <td>1.000000</td>\n",
       "      <td>0.521534</td>\n",
       "      <td>0.847287</td>\n",
       "    </tr>\n",
       "    <tr>\n",
       "      <th>resta</th>\n",
       "      <td>0.437681</td>\n",
       "      <td>0.728252</td>\n",
       "      <td>0.552130</td>\n",
       "      <td>0.728252</td>\n",
       "      <td>0.589351</td>\n",
       "      <td>0.566631</td>\n",
       "      <td>0.521534</td>\n",
       "      <td>1.000000</td>\n",
       "      <td>0.522598</td>\n",
       "    </tr>\n",
       "    <tr>\n",
       "      <th>target</th>\n",
       "      <td>0.680772</td>\n",
       "      <td>0.787068</td>\n",
       "      <td>0.845097</td>\n",
       "      <td>0.787068</td>\n",
       "      <td>0.670946</td>\n",
       "      <td>0.856704</td>\n",
       "      <td>0.847287</td>\n",
       "      <td>0.522598</td>\n",
       "      <td>1.000000</td>\n",
       "    </tr>\n",
       "  </tbody>\n",
       "</table>\n",
       "</div>"
      ],
      "text/plain": [
       "             max      mean       std      prop        q1        q2        q3  \\\n",
       "max     1.000000  0.661931  0.923845  0.661931  0.486094  0.637558  0.774186   \n",
       "mean    0.661931  1.000000  0.838166  1.000000  0.876218  0.859192  0.791245   \n",
       "std     0.923845  0.838166  1.000000  0.838166  0.705225  0.856172  0.917390   \n",
       "prop    0.661931  1.000000  0.838166  1.000000  0.876218  0.859192  0.791245   \n",
       "q1      0.486094  0.876218  0.705225  0.876218  1.000000  0.762432  0.627878   \n",
       "q2      0.637558  0.859192  0.856172  0.859192  0.762432  1.000000  0.823520   \n",
       "q3      0.774186  0.791245  0.917390  0.791245  0.627878  0.823520  1.000000   \n",
       "resta   0.437681  0.728252  0.552130  0.728252  0.589351  0.566631  0.521534   \n",
       "target  0.680772  0.787068  0.845097  0.787068  0.670946  0.856704  0.847287   \n",
       "\n",
       "           resta    target  \n",
       "max     0.437681  0.680772  \n",
       "mean    0.728252  0.787068  \n",
       "std     0.552130  0.845097  \n",
       "prop    0.728252  0.787068  \n",
       "q1      0.589351  0.670946  \n",
       "q2      0.566631  0.856704  \n",
       "q3      0.521534  0.847287  \n",
       "resta   1.000000  0.522598  \n",
       "target  0.522598  1.000000  "
      ]
     },
     "execution_count": 70,
     "metadata": {},
     "output_type": "execute_result"
    }
   ],
   "source": [
    "df_test.corr()"
   ]
  },
  {
   "cell_type": "code",
   "execution_count": 71,
   "metadata": {},
   "outputs": [],
   "source": [
    "def plot_auc(fpr, tpr, roc_auc):\n",
    "    plt.figure(figsize=(8, 6))\n",
    "    plt.plot(fpr, tpr, color='darkorange', lw=2, label=f'ROC curve patches (AUC = {roc_auc:.2f})')\n",
    "    plt.plot([0, 1], [0, 1], color='navy', lw=2, linestyle='--')\n",
    "    plt.xlim([0.0, 1.0])\n",
    "    plt.ylim([0.0, 1.05])\n",
    "    plt.xlabel('False Positive Rate')\n",
    "    plt.ylabel('True Positive Rate')\n",
    "    plt.title('Receiver Operating Characteristic')\n",
    "    plt.legend(loc='lower right')\n",
    "    plt.savefig(f\"{PLOT_LOSS_DIR}ROCcurve2.png\")"
   ]
  },
  {
   "cell_type": "code",
   "execution_count": 72,
   "metadata": {},
   "outputs": [
    {
     "data": {
      "image/png": "[encoded data removed]",
      "text/plain": [
       "<Figure size 576x432 with 1 Axes>"
      ]
     },
     "metadata": {
      "needs_background": "light"
     },
     "output_type": "display_data"
    }
   ],
   "source": [
    "fpr, tpr, thresholds = roc_curve(df_test['target'], df_test['q3'])\n",
    "roc_auc = auc(fpr, tpr)\n",
    "plot_auc(fpr, tpr, roc_auc)"
   ]
  },
  {
   "cell_type": "code",
   "execution_count": 73,
   "metadata": {},
   "outputs": [
    {
     "name": "stdout",
     "output_type": "stream",
     "text": [
      "1\n"
     ]
    }
   ],
   "source": [
    "J2 = tpr - fpr\n",
    "best_threshold = thresholds[np.argmax(J2)]\n",
    "print(best_threshold)"
   ]
  },
  {
   "cell_type": "code",
   "execution_count": 74,
   "metadata": {},
   "outputs": [
    {
     "name": "stdout",
     "output_type": "stream",
     "text": [
      "Confusion matrix patches:\n",
      "[[107  10]\n",
      " [  4  68]]\n"
     ]
    },
    {
     "data": {
      "text/plain": [
       "(0.9444444444444444, 0.9259259259259259)"
      ]
     },
     "execution_count": 74,
     "metadata": {},
     "output_type": "execute_result"
    }
   ],
   "source": [
    "\n",
    "predicted_labels2 = [1 if r >= best_threshold else 0 for r in df_test['q3']]\n",
    "\n",
    "# Calculate the confusion matrix\n",
    "confusion_matrix2 = confusion_matrix(df_test['target'], predicted_labels2)\n",
    "\n",
    "# Print the confusion matrix\n",
    "print(\"Confusion matrix patches:\")\n",
    "print(confusion_matrix2)\n",
    "\n",
    "recall_score(df_test['target'], predicted_labels2), accuracy_score(df_test['target'], predicted_labels2)"
   ]
  }
 ],
 "metadata": {
  "kernelspec": {
   "display_name": "psiv1",
   "language": "python",
   "name": "python3"
  },
  "language_info": {
   "codemirror_mode": {
    "name": "ipython",
    "version": 3
   },
   "file_extension": ".py",
   "mimetype": "text/x-python",
   "name": "python",
   "nbconvert_exporter": "python",
   "pygments_lexer": "ipython3",
   "version": "3.8.10"
  }
 },
 "nbformat": 4,
 "nbformat_minor": 2
}
