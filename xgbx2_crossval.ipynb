{
 "cells": [
  {
   "cell_type": "markdown",
   "metadata": {},
   "source": [
    "### Imports i carregar model + variables bàsiques globals"
   ]
  },
  {
   "cell_type": "code",
   "execution_count": 2,
   "metadata": {},
   "outputs": [
    {
     "ename": "ModuleNotFoundError",
     "evalue": "No module named 'baseline'",
     "output_type": "error",
     "traceback": [
      "\u001b[0;31m---------------------------------------------------------------------------\u001b[0m",
      "\u001b[0;31mModuleNotFoundError\u001b[0m                       Traceback (most recent call last)",
      "\u001b[1;32m/Users/abriil/Uni/23-24/PSIV2/repo_repte3/PSIV3_malaltia/autoencoder/xgbx2_crossval.ipynb Cell 2\u001b[0m line \u001b[0;36m1\n\u001b[0;32m----> <a href='vscode-notebook-cell:/Users/abriil/Uni/23-24/PSIV2/repo_repte3/PSIV3_malaltia/autoencoder/xgbx2_crossval.ipynb#W1sZmlsZQ%3D%3D?line=0'>1</a>\u001b[0m \u001b[39mfrom\u001b[39;00m \u001b[39mbaseline\u001b[39;00m\u001b[39m.\u001b[39;00m\u001b[39mmodel_autoencoder\u001b[39;00m \u001b[39mimport\u001b[39;00m Autoencoder\n\u001b[1;32m      <a href='vscode-notebook-cell:/Users/abriil/Uni/23-24/PSIV2/repo_repte3/PSIV3_malaltia/autoencoder/xgbx2_crossval.ipynb#W1sZmlsZQ%3D%3D?line=1'>2</a>\u001b[0m \u001b[39mfrom\u001b[39;00m \u001b[39mutils\u001b[39;00m \u001b[39mimport\u001b[39;00m ImagesDataset\n\u001b[1;32m      <a href='vscode-notebook-cell:/Users/abriil/Uni/23-24/PSIV2/repo_repte3/PSIV3_malaltia/autoencoder/xgbx2_crossval.ipynb#W1sZmlsZQ%3D%3D?line=2'>3</a>\u001b[0m \u001b[39mimport\u001b[39;00m \u001b[39mtorch\u001b[39;00m\n",
      "\u001b[0;31mModuleNotFoundError\u001b[0m: No module named 'baseline'"
     ]
    }
   ],
   "source": [
    "from baseline.model_autoencoder import Autoencoder\n",
    "from utils import ImagesDataset\n",
    "import torch\n",
    "import os\n",
    "import pandas as pd\n",
    "import cv2\n",
    "import numpy as np\n",
    "from sklearn.metrics import roc_curve, auc, recall_score, accuracy_score, confusion_matrix, precision_score, f1_score\n",
    "import matplotlib.pyplot as plt\n",
    "from torchvision import transforms\n",
    "from torchvision.io import read_image\n",
    "from config import *\n",
    "from sklearn.ensemble import GradientBoostingClassifier\n",
    "from sklearn.model_selection import train_test_split\n",
    "from sklearn.model_selection import cross_val_score\n",
    "import random"
   ]
  },
  {
   "cell_type": "code",
   "execution_count": 2,
   "metadata": {},
   "outputs": [],
   "source": [
    "model = Autoencoder()\n",
    "model.load_state_dict(torch.load(SAVED_MODEL, map_location = torch.device('cpu')))\n",
    "\n",
    "metadata = pd.read_csv(METADATA_FILE)\n",
    "window_metadata = pd.read_csv(WINDOW_METADATA_FILE)\n",
    "\n",
    "directories_an = [dir.path for dir in os.scandir(ANNOTATED_PATCHES_DIR) if dir.is_dir()]\n",
    "directories_cr = [dir.path for dir in os.scandir(CROPPED_PATCHES_DIR) if dir.is_dir()]"
   ]
  },
  {
   "cell_type": "markdown",
   "metadata": {},
   "source": [
    "### Definim funcions i altres que farem servir més endavant"
   ]
  },
  {
   "cell_type": "code",
   "execution_count": 3,
   "metadata": {},
   "outputs": [],
   "source": [
    "transform = transforms.Compose([\n",
    "    transforms.Resize((64,64), antialias=True),\n",
    "    transforms.Normalize(mean=[0.5], std=[0.5])])\n",
    "\n",
    "transform_un = transforms.Compose([\n",
    "    transforms.Normalize(mean=[-0.5/0.5], std=[1/0.5])])"
   ]
  },
  {
   "cell_type": "code",
   "execution_count": 4,
   "metadata": {},
   "outputs": [],
   "source": [
    "def red_pixels(img):\n",
    "    img = img.permute(1, 2, 0).detach().numpy()\n",
    "    img = (img * 255).astype(np.uint8)\n",
    "    img = cv2.cvtColor(img, cv2.COLOR_RGB2HSV)\n",
    "    lower_limit = 340\n",
    "    upper_limit = 20\n",
    "    count = ((img[:, :, 0] >= lower_limit) | (img[:, :, 0] <= upper_limit)).sum()\n",
    "\n",
    "    return count"
   ]
  },
  {
   "cell_type": "code",
   "execution_count": 41,
   "metadata": {},
   "outputs": [],
   "source": [
    "def df_predpac(directori, model_autoe, model_pred ):\n",
    "    targets = []\n",
    "    targets2 = []\n",
    "    props = []\n",
    "    r_or = []\n",
    "    r_out = []\n",
    "    max_pats = []\n",
    "    mean_pats = []\n",
    "    std_pats = []\n",
    "    quantil1 = []\n",
    "    quantil2 = []\n",
    "    quantil3 = []\n",
    "    restes = []\n",
    "    eps=0.001\n",
    "    n = 50\n",
    "\n",
    "\n",
    "    for dir in directori:\n",
    "        if metadata.loc[metadata[\"CODI\"] == dir.split(\"/\")[-1].split(\"_\")[0], \"DENSITAT\"].values[0] == \"NEGATIVA\":\n",
    "            target = 0\n",
    "        elif metadata.loc[metadata[\"CODI\"] == dir.split(\"/\")[-1].split(\"_\")[0], \"DENSITAT\"].values[0] == \"ALTA\":\n",
    "            target = 1\n",
    "        else:\n",
    "            continue\n",
    "        files = os.listdir(dir)\n",
    "        random.shuffle(files)\n",
    "        if len(files) == 0:\n",
    "            continue\n",
    "        if len(files) > n:\n",
    "            files = files[:n]\n",
    "        predict_patches = 0\n",
    "        prop_pac = []\n",
    "        resta = []\n",
    "        for file in files:\n",
    "            if window_metadata.loc[window_metadata[\"ID\"] == str(dir.split(\"/\")[-1])+\".\"+file[:-4], \"Presence\"].values == -1:\n",
    "                targets2.append(0)\n",
    "            elif window_metadata.loc[window_metadata[\"ID\"] == str(dir.split(\"/\")[-1])+\".\"+file[:-4], \"Presence\"].values == 1:\n",
    "                targets2.append(1)\n",
    "            else:\n",
    "                continue\n",
    "                targets2.append(1)\n",
    "            img = read_image(os.path.join(dir, file))[:-1,:,:]\n",
    "            img = img.to(torch.float32)\n",
    "            img = img/255\n",
    "            img = transform(img)\n",
    "            model_autoe.eval()\n",
    "            img_processed = model_autoe(img, \"autoencoder\")\n",
    "            red_pixels_original = red_pixels(transform_un(img))\n",
    "            red_pixels_output = red_pixels(transform_un(img_processed))\n",
    "            test = pd.DataFrame({\"Red_Original\": [red_pixels_original], \"Red_Output\": [red_pixels_output]})\n",
    "            pred = model_pred.predict_proba(test)\n",
    "            r_or.append(red_pixels_original)\n",
    "            r_out.append(red_pixels_output)\n",
    "            if pred[:,1] >= 0.5:\n",
    "                prop_pac.append(1)\n",
    "                predict_patches += 1\n",
    "            else:\n",
    "                prop_pac.append(0)\n",
    "            resta.append(abs(-red_pixels_output+red_pixels_original))\n",
    "        if len(prop_pac) != 0:\n",
    "            prop_pac = sorted(prop_pac)\n",
    "            max_pat = max(prop_pac)   \n",
    "            mean_pat = sum(prop_pac)/len(prop_pac)  \n",
    "            std_pat = np.std(prop_pac)\n",
    "            quantil1.append(prop_pac[int(len(prop_pac)/10)*7]) \n",
    "            quantil2.append(prop_pac[int(len(prop_pac)/10)*8]) \n",
    "            quantil3.append(prop_pac[int(len(prop_pac)/10)*9])\n",
    "            restes.append(max(resta))\n",
    "            prop = predict_patches/len(files)\n",
    "\n",
    "            targets.append(target)\n",
    "            props.append(prop)\n",
    "            max_pats.append(max_pat)\n",
    "            mean_pats.append(mean_pat)\n",
    "            std_pats.append(std_pat)\n",
    "            \n",
    "    return pd.DataFrame({'max': max_pats, 'mean': mean_pats, 'std': std_pats, 'prop': props, 'q1': quantil1, 'q2': quantil2, 'q3': quantil3, 'resta': restes, 'target': targets}), pd.DataFrame({\"Target\": targets2, \"RedOR\": r_or, \"RedOUT\": r_out})\n"
   ]
  },
  {
   "cell_type": "markdown",
   "metadata": {},
   "source": [
    "### Llegim dades d'Annotated: obtenim els valors de vermell en la imatge original i la de la sortida de l'autoencoder, així com el target. Tot això per crear un dataframe que utilitzem per entrenar un xgboost que farà la predicció dels patches."
   ]
  },
  {
   "cell_type": "code",
   "execution_count": 6,
   "metadata": {},
   "outputs": [
    {
     "name": "stderr",
     "output_type": "stream",
     "text": [
      "/tmp/ipykernel_3528988/2807909155.py:10: DeprecationWarning: The truth value of an empty array is ambiguous. Returning False, but in future this will result in an error. Use `array.size > 0` to check that an array is not empty.\n",
      "  if window_metadata.loc[window_metadata[\"ID\"] == str(dir.split(\"/\")[-1])+\".\"+file[:-4], \"Presence\"].values == -1:\n"
     ]
    }
   ],
   "source": [
    "target_patch = []\n",
    "ror_train = []\n",
    "rout_train = []\n",
    "\n",
    "for dir in directories_an:\n",
    "    files = os.listdir(dir)\n",
    "    if len(files) == 0:\n",
    "        continue\n",
    "    for file in files:\n",
    "        if window_metadata.loc[window_metadata[\"ID\"] == str(dir.split(\"/\")[-1])+\".\"+file[:-4], \"Presence\"].values == -1:\n",
    "            target_patch.append(0)\n",
    "        else:\n",
    "            target_patch.append(1)\n",
    "        img = read_image(os.path.join(dir, file))[:-1,:,:]\n",
    "        img = img.to(torch.float32)\n",
    "        img = img/255\n",
    "        img = transform(img)\n",
    "        model.eval()\n",
    "        img_processed = model(img, \"autoencoder\")\n",
    "        red_pixels_original = red_pixels(transform_un(img))\n",
    "        red_pixels_output = red_pixels(transform_un(img_processed))\n",
    "        ror_train.append(red_pixels_original)\n",
    "        rout_train.append(red_pixels_output)"
   ]
  },
  {
   "cell_type": "code",
   "execution_count": 64,
   "metadata": {},
   "outputs": [],
   "source": [
    "df_train = pd.DataFrame({\"Red_Original\": ror_train, \"Red_Output\": rout_train, \"Target\": target_patch})\n",
    "X_train, y_train = df_train.drop(columns=['Target']), df_train['Target']\n",
    "X, y = df_train.drop(columns=['Target']), df_train['Target']\n",
    "X_train, X_test, y_train, y_test = train_test_split(X, y, train_size=0.8, shuffle = True, random_state= 42)"
   ]
  },
  {
   "cell_type": "code",
   "execution_count": 72,
   "metadata": {},
   "outputs": [],
   "source": [
    "gb_classifier = GradientBoostingClassifier(\n",
    "    n_estimators=100,           # Number of boosting rounds (trees to build)\n",
    "    learning_rate=0.1,          # Step size shrinkage to prevent overfitting\n",
    "    max_depth=3,                # Maximum depth of a tree\n",
    "    random_state=42,             # Seed for reproducibility\n",
    ")"
   ]
  },
  {
   "cell_type": "markdown",
   "metadata": {},
   "source": [
    "### Fem cross validation amb annotated per veure com va el model"
   ]
  },
  {
   "cell_type": "code",
   "execution_count": 10,
   "metadata": {},
   "outputs": [],
   "source": [
    "n_scores = cross_val_score(gb_classifier, df_train.drop(columns=['Target']), df_train['Target'], scoring='roc_auc', cv=5, n_jobs=-1, error_score='raise')"
   ]
  },
  {
   "cell_type": "code",
   "execution_count": 11,
   "metadata": {},
   "outputs": [
    {
     "data": {
      "text/plain": [
       "0.9163500602083717"
      ]
     },
     "execution_count": 11,
     "metadata": {},
     "output_type": "execute_result"
    }
   ],
   "source": [
    "#ROC AUC mitjana crossval 5\n",
    "np.mean(n_scores)"
   ]
  },
  {
   "cell_type": "code",
   "execution_count": 12,
   "metadata": {},
   "outputs": [],
   "source": [
    "n_scores = cross_val_score(gb_classifier, df_train.drop(columns=['Target']), df_train['Target'], scoring='recall', cv=5, n_jobs=-1, error_score='raise')"
   ]
  },
  {
   "cell_type": "code",
   "execution_count": 13,
   "metadata": {},
   "outputs": [
    {
     "data": {
      "text/plain": [
       "0.7395390070921986"
      ]
     },
     "execution_count": 13,
     "metadata": {},
     "output_type": "execute_result"
    }
   ],
   "source": [
    "np.mean(n_scores)"
   ]
  },
  {
   "cell_type": "markdown",
   "metadata": {},
   "source": [
    "### Entrenem el model amb tots els patches d'annotated"
   ]
  },
  {
   "cell_type": "code",
   "execution_count": 73,
   "metadata": {},
   "outputs": [
    {
     "data": {
      "text/plain": [
       "GradientBoostingClassifier(random_state=42)"
      ]
     },
     "execution_count": 73,
     "metadata": {},
     "output_type": "execute_result"
    }
   ],
   "source": [
    "gb_classifier.fit(X_train, y_train)"
   ]
  },
  {
   "cell_type": "code",
   "execution_count": 76,
   "metadata": {},
   "outputs": [],
   "source": [
    "pred = gb_classifier.predict_proba(X_test)"
   ]
  },
  {
   "cell_type": "code",
   "execution_count": 82,
   "metadata": {},
   "outputs": [
    {
     "name": "stdout",
     "output_type": "stream",
     "text": [
      "Confusion matrix patches:\n",
      "[[212   9]\n",
      " [  8  37]]\n"
     ]
    },
    {
     "data": {
      "text/plain": [
       "(0.8222222222222222,\n",
       " 0.9360902255639098,\n",
       " 0.8043478260869565,\n",
       " 0.8131868131868132)"
      ]
     },
     "execution_count": 82,
     "metadata": {},
     "output_type": "execute_result"
    }
   ],
   "source": [
    "predicted_labels2 = [0 if p < 0.4 else 1 for p in pred[:,1]]\n",
    "\n",
    "# Calculate the confusion matrix\n",
    "confusion_matrix2 = confusion_matrix(y_test, predicted_labels2)\n",
    "\n",
    "# Print the confusion matrix\n",
    "print(\"Confusion matrix patches:\")\n",
    "print(confusion_matrix2)\n",
    "\n",
    "recall_score(y_test, predicted_labels2), accuracy_score(y_test, predicted_labels2), precision_score(y_test, predicted_labels2), f1_score(y_test, predicted_labels2)"
   ]
  },
  {
   "cell_type": "code",
   "execution_count": 83,
   "metadata": {},
   "outputs": [
    {
     "data": {
      "image/png": "[encoded data removed]",
      "text/plain": [
       "<Figure size 432x288 with 2 Axes>"
      ]
     },
     "metadata": {
      "needs_background": "light"
     },
     "output_type": "display_data"
    }
   ],
   "source": [
    "from utils import *\n",
    "plot_confusion_matrix(y_test, predicted_labels2, '/fhome/mapsiv01/PSIV3_malaltia/autoencoder/plots', 'CM_gb_pat')"
   ]
  },
  {
   "cell_type": "markdown",
   "metadata": {},
   "source": [
    "### Ara enlloc dels patches d'annotaded, crearem un df per als pacients del mateix directori. Aquest dataframe conté les columnes següents: 'max': max_pats, 'mean': mean_pats, 'std': std_pats, 'prop': props, 'q1': quantil1, 'q2': quantil2, 'q3': quantil3, 'resta': restes, 'target': targets"
   ]
  },
  {
   "cell_type": "code",
   "execution_count": 15,
   "metadata": {},
   "outputs": [],
   "source": [
    "df_train2, final_results = df_predpac(directories_an, model, gb_classifier)"
   ]
  },
  {
   "cell_type": "markdown",
   "metadata": {},
   "source": [
    "### Creem un altre xgboost i fem cv pels pacients d'annotated x veure com va el model, ho fem amb el dataset prèviament esmentat."
   ]
  },
  {
   "cell_type": "code",
   "execution_count": 16,
   "metadata": {},
   "outputs": [],
   "source": [
    "gb_classifier2 = GradientBoostingClassifier(\n",
    "    n_estimators=100,           # Number of boosting rounds (trees to build)\n",
    "    learning_rate=0.1,          # Step size shrinkage to prevent overfitting\n",
    "    max_depth=3,                # Maximum depth of a tree\n",
    "    random_state=42,             # Seed for reproducibility\n",
    ")"
   ]
  },
  {
   "cell_type": "code",
   "execution_count": 17,
   "metadata": {},
   "outputs": [],
   "source": [
    "n_scores2 = cross_val_score(gb_classifier2, df_train2.drop(columns=['target']), df_train2['target'], scoring='recall', cv=5, n_jobs=-1, error_score='raise')"
   ]
  },
  {
   "cell_type": "code",
   "execution_count": 18,
   "metadata": {},
   "outputs": [
    {
     "data": {
      "text/plain": [
       "0.7527272727272727"
      ]
     },
     "execution_count": 18,
     "metadata": {},
     "output_type": "execute_result"
    }
   ],
   "source": [
    "np.mean(n_scores2)"
   ]
  },
  {
   "cell_type": "code",
   "execution_count": 19,
   "metadata": {},
   "outputs": [
    {
     "data": {
      "text/plain": [
       "GradientBoostingClassifier(random_state=42)"
      ]
     },
     "execution_count": 19,
     "metadata": {},
     "output_type": "execute_result"
    }
   ],
   "source": [
    "gb_classifier2.fit(df_train2.drop(columns=['target']), df_train2['target'])"
   ]
  },
  {
   "cell_type": "markdown",
   "metadata": {},
   "source": [
    "### Creem el dataset de test, és a dir el que conté les mateixes dades que l'anterior però pels pacients que volem predir. En aquest cas els de cropped (xo agafem 20 patches random x pacient només xq sinó és infinit)"
   ]
  },
  {
   "cell_type": "code",
   "execution_count": 42,
   "metadata": {},
   "outputs": [
    {
     "name": "stderr",
     "output_type": "stream",
     "text": [
      "/tmp/ipykernel_3528988/2385548458.py:35: DeprecationWarning: The truth value of an empty array is ambiguous. Returning False, but in future this will result in an error. Use `array.size > 0` to check that an array is not empty.\n",
      "  if window_metadata.loc[window_metadata[\"ID\"] == str(dir.split(\"/\")[-1])+\".\"+file[:-4], \"Presence\"].values == -1:\n",
      "/tmp/ipykernel_3528988/2385548458.py:37: DeprecationWarning: The truth value of an empty array is ambiguous. Returning False, but in future this will result in an error. Use `array.size > 0` to check that an array is not empty.\n",
      "  elif window_metadata.loc[window_metadata[\"ID\"] == str(dir.split(\"/\")[-1])+\".\"+file[:-4], \"Presence\"].values == 1:\n"
     ]
    }
   ],
   "source": [
    "df_test, final_results2 = df_predpac(directories_cr, model, gb_classifier)"
   ]
  },
  {
   "cell_type": "code",
   "execution_count": 58,
   "metadata": {},
   "outputs": [
    {
     "name": "stderr",
     "output_type": "stream",
     "text": [
      "/tmp/ipykernel_3528988/296790831.py:33: DeprecationWarning: The truth value of an empty array is ambiguous. Returning False, but in future this will result in an error. Use `array.size > 0` to check that an array is not empty.\n",
      "  if window_metadata.loc[window_metadata[\"ID\"] == str(dir.split(\"/\")[-1])+\".\"+file[:-4], \"Presence\"].values == 0:\n",
      "/tmp/ipykernel_3528988/296790831.py:35: DeprecationWarning: The truth value of an empty array is ambiguous. Returning False, but in future this will result in an error. Use `array.size > 0` to check that an array is not empty.\n",
      "  elif window_metadata.loc[window_metadata[\"ID\"] == str(dir.split(\"/\")[-1])+\".\"+file[:-4], \"Presence\"].values == -1:\n",
      "/tmp/ipykernel_3528988/296790831.py:37: DeprecationWarning: The truth value of an empty array is ambiguous. Returning False, but in future this will result in an error. Use `array.size > 0` to check that an array is not empty.\n",
      "  elif window_metadata.loc[window_metadata[\"ID\"] == str(dir.split(\"/\")[-1])+\".\"+file[:-4], \"Presence\"].values == 1:\n"
     ]
    }
   ],
   "source": [
    "def read_img(file, dir):\n",
    "    img = read_image(os.path.join(dir, file))[:-1,:,:]\n",
    "    img = img.to(torch.float32)\n",
    "    img = img/255\n",
    "    img = transform(img)\n",
    "    return img\n",
    "\n",
    "props = []\n",
    "targets = []\n",
    "targets2 = []\n",
    "r_or = []\n",
    "r_out = []\n",
    "eps = 0.0001\n",
    "n = 20\n",
    "\n",
    "for dir in directories_cr:\n",
    "    if metadata.loc[metadata[\"CODI\"] == dir.split(\"/\")[-1].split(\"_\")[0], \"DENSITAT\"].values[0] == \"BAIXA\":\n",
    "        continue\n",
    "        target = 1\n",
    "    if metadata.loc[metadata[\"CODI\"] == dir.split(\"/\")[-1].split(\"_\")[0], \"DENSITAT\"].values[0] == \"NEGATIVA\":\n",
    "        target = 0\n",
    "    else:\n",
    "        target = 1\n",
    "\n",
    "    files = os.listdir(dir)\n",
    "    if len(files) > n:\n",
    "            files = files[:n]\n",
    "\n",
    "    predict_patches = 0\n",
    "    patches_seen = 0\n",
    "\n",
    "    for file in files:\n",
    "        patches_seen += 1\n",
    "        img = read_img(file, dir)\n",
    "        model.eval()\n",
    "        img_processed = model(img, \"autoencoder\")\n",
    "        red_pixels_original = red_pixels(transform_un(img))\n",
    "        red_pixels_output = red_pixels(transform_un(img_processed))\n",
    "        r_or.append(red_pixels_original)\n",
    "        r_out.append(red_pixels_output)\n",
    "\n",
    "        if (red_pixels_original+eps)/(red_pixels_output+eps) > 1.0:\n",
    "                predict_patches += 1\n",
    "    \n",
    "    if patches_seen != 0:\n",
    "        prop = predict_patches/patches_seen\n",
    "        \n",
    "        targets.append(target)\n",
    "        props.append(prop)"
   ]
  },
  {
   "cell_type": "code",
   "execution_count": 60,
   "metadata": {},
   "outputs": [
    {
     "ename": "ValueError",
     "evalue": "arrays must all be same length",
     "output_type": "error",
     "traceback": [
      "\u001b[0;31m---------------------------------------------------------------------------\u001b[0m",
      "\u001b[0;31mValueError\u001b[0m                                Traceback (most recent call last)",
      "\u001b[0;32m/tmp/ipykernel_3528988/4028030263.py\u001b[0m in \u001b[0;36m<module>\u001b[0;34m\u001b[0m\n\u001b[0;32m----> 1\u001b[0;31m \u001b[0mfinal_results2\u001b[0m \u001b[0;34m=\u001b[0m \u001b[0mpd\u001b[0m\u001b[0;34m.\u001b[0m\u001b[0mDataFrame\u001b[0m\u001b[0;34m(\u001b[0m\u001b[0;34m{\u001b[0m\u001b[0;34m\"Target\"\u001b[0m\u001b[0;34m:\u001b[0m \u001b[0mtargets2\u001b[0m\u001b[0;34m,\u001b[0m \u001b[0;34m\"Red_Original\"\u001b[0m\u001b[0;34m:\u001b[0m \u001b[0mr_or\u001b[0m\u001b[0;34m,\u001b[0m \u001b[0;34m\"Red_Output\"\u001b[0m\u001b[0;34m:\u001b[0m \u001b[0mr_out\u001b[0m\u001b[0;34m}\u001b[0m\u001b[0;34m)\u001b[0m\u001b[0;34m\u001b[0m\u001b[0;34m\u001b[0m\u001b[0m\n\u001b[0m",
      "\u001b[0;32m~/psiv1/lib/python3.8/site-packages/pandas/core/frame.py\u001b[0m in \u001b[0;36m__init__\u001b[0;34m(self, data, index, columns, dtype, copy)\u001b[0m\n\u001b[1;32m    527\u001b[0m \u001b[0;34m\u001b[0m\u001b[0m\n\u001b[1;32m    528\u001b[0m         \u001b[0;32melif\u001b[0m \u001b[0misinstance\u001b[0m\u001b[0;34m(\u001b[0m\u001b[0mdata\u001b[0m\u001b[0;34m,\u001b[0m \u001b[0mdict\u001b[0m\u001b[0;34m)\u001b[0m\u001b[0;34m:\u001b[0m\u001b[0;34m\u001b[0m\u001b[0;34m\u001b[0m\u001b[0m\n\u001b[0;32m--> 529\u001b[0;31m             \u001b[0mmgr\u001b[0m \u001b[0;34m=\u001b[0m \u001b[0minit_dict\u001b[0m\u001b[0;34m(\u001b[0m\u001b[0mdata\u001b[0m\u001b[0;34m,\u001b[0m \u001b[0mindex\u001b[0m\u001b[0;34m,\u001b[0m \u001b[0mcolumns\u001b[0m\u001b[0;34m,\u001b[0m \u001b[0mdtype\u001b[0m\u001b[0;34m=\u001b[0m\u001b[0mdtype\u001b[0m\u001b[0;34m)\u001b[0m\u001b[0;34m\u001b[0m\u001b[0;34m\u001b[0m\u001b[0m\n\u001b[0m\u001b[1;32m    530\u001b[0m         \u001b[0;32melif\u001b[0m \u001b[0misinstance\u001b[0m\u001b[0;34m(\u001b[0m\u001b[0mdata\u001b[0m\u001b[0;34m,\u001b[0m \u001b[0mma\u001b[0m\u001b[0;34m.\u001b[0m\u001b[0mMaskedArray\u001b[0m\u001b[0;34m)\u001b[0m\u001b[0;34m:\u001b[0m\u001b[0;34m\u001b[0m\u001b[0;34m\u001b[0m\u001b[0m\n\u001b[1;32m    531\u001b[0m             \u001b[0;32mimport\u001b[0m \u001b[0mnumpy\u001b[0m\u001b[0;34m.\u001b[0m\u001b[0mma\u001b[0m\u001b[0;34m.\u001b[0m\u001b[0mmrecords\u001b[0m \u001b[0;32mas\u001b[0m \u001b[0mmrecords\u001b[0m\u001b[0;34m\u001b[0m\u001b[0;34m\u001b[0m\u001b[0m\n",
      "\u001b[0;32m~/psiv1/lib/python3.8/site-packages/pandas/core/internals/construction.py\u001b[0m in \u001b[0;36minit_dict\u001b[0;34m(data, index, columns, dtype)\u001b[0m\n\u001b[1;32m    285\u001b[0m             \u001b[0marr\u001b[0m \u001b[0;32mif\u001b[0m \u001b[0;32mnot\u001b[0m \u001b[0mis_datetime64tz_dtype\u001b[0m\u001b[0;34m(\u001b[0m\u001b[0marr\u001b[0m\u001b[0;34m)\u001b[0m \u001b[0;32melse\u001b[0m \u001b[0marr\u001b[0m\u001b[0;34m.\u001b[0m\u001b[0mcopy\u001b[0m\u001b[0;34m(\u001b[0m\u001b[0;34m)\u001b[0m \u001b[0;32mfor\u001b[0m \u001b[0marr\u001b[0m \u001b[0;32min\u001b[0m \u001b[0marrays\u001b[0m\u001b[0;34m\u001b[0m\u001b[0;34m\u001b[0m\u001b[0m\n\u001b[1;32m    286\u001b[0m         ]\n\u001b[0;32m--> 287\u001b[0;31m     \u001b[0;32mreturn\u001b[0m \u001b[0marrays_to_mgr\u001b[0m\u001b[0;34m(\u001b[0m\u001b[0marrays\u001b[0m\u001b[0;34m,\u001b[0m \u001b[0mdata_names\u001b[0m\u001b[0;34m,\u001b[0m \u001b[0mindex\u001b[0m\u001b[0;34m,\u001b[0m \u001b[0mcolumns\u001b[0m\u001b[0;34m,\u001b[0m \u001b[0mdtype\u001b[0m\u001b[0;34m=\u001b[0m\u001b[0mdtype\u001b[0m\u001b[0;34m)\u001b[0m\u001b[0;34m\u001b[0m\u001b[0;34m\u001b[0m\u001b[0m\n\u001b[0m\u001b[1;32m    288\u001b[0m \u001b[0;34m\u001b[0m\u001b[0m\n\u001b[1;32m    289\u001b[0m \u001b[0;34m\u001b[0m\u001b[0m\n",
      "\u001b[0;32m~/psiv1/lib/python3.8/site-packages/pandas/core/internals/construction.py\u001b[0m in \u001b[0;36marrays_to_mgr\u001b[0;34m(arrays, arr_names, index, columns, dtype, verify_integrity)\u001b[0m\n\u001b[1;32m     78\u001b[0m         \u001b[0;31m# figure out the index, if necessary\u001b[0m\u001b[0;34m\u001b[0m\u001b[0;34m\u001b[0m\u001b[0;34m\u001b[0m\u001b[0m\n\u001b[1;32m     79\u001b[0m         \u001b[0;32mif\u001b[0m \u001b[0mindex\u001b[0m \u001b[0;32mis\u001b[0m \u001b[0;32mNone\u001b[0m\u001b[0;34m:\u001b[0m\u001b[0;34m\u001b[0m\u001b[0;34m\u001b[0m\u001b[0m\n\u001b[0;32m---> 80\u001b[0;31m             \u001b[0mindex\u001b[0m \u001b[0;34m=\u001b[0m \u001b[0mextract_index\u001b[0m\u001b[0;34m(\u001b[0m\u001b[0marrays\u001b[0m\u001b[0;34m)\u001b[0m\u001b[0;34m\u001b[0m\u001b[0;34m\u001b[0m\u001b[0m\n\u001b[0m\u001b[1;32m     81\u001b[0m         \u001b[0;32melse\u001b[0m\u001b[0;34m:\u001b[0m\u001b[0;34m\u001b[0m\u001b[0;34m\u001b[0m\u001b[0m\n\u001b[1;32m     82\u001b[0m             \u001b[0mindex\u001b[0m \u001b[0;34m=\u001b[0m \u001b[0mensure_index\u001b[0m\u001b[0;34m(\u001b[0m\u001b[0mindex\u001b[0m\u001b[0;34m)\u001b[0m\u001b[0;34m\u001b[0m\u001b[0;34m\u001b[0m\u001b[0m\n",
      "\u001b[0;32m~/psiv1/lib/python3.8/site-packages/pandas/core/internals/construction.py\u001b[0m in \u001b[0;36mextract_index\u001b[0;34m(data)\u001b[0m\n\u001b[1;32m    399\u001b[0m             \u001b[0mlengths\u001b[0m \u001b[0;34m=\u001b[0m \u001b[0mlist\u001b[0m\u001b[0;34m(\u001b[0m\u001b[0mset\u001b[0m\u001b[0;34m(\u001b[0m\u001b[0mraw_lengths\u001b[0m\u001b[0;34m)\u001b[0m\u001b[0;34m)\u001b[0m\u001b[0;34m\u001b[0m\u001b[0;34m\u001b[0m\u001b[0m\n\u001b[1;32m    400\u001b[0m             \u001b[0;32mif\u001b[0m \u001b[0mlen\u001b[0m\u001b[0;34m(\u001b[0m\u001b[0mlengths\u001b[0m\u001b[0;34m)\u001b[0m \u001b[0;34m>\u001b[0m \u001b[0;36m1\u001b[0m\u001b[0;34m:\u001b[0m\u001b[0;34m\u001b[0m\u001b[0;34m\u001b[0m\u001b[0m\n\u001b[0;32m--> 401\u001b[0;31m                 \u001b[0;32mraise\u001b[0m \u001b[0mValueError\u001b[0m\u001b[0;34m(\u001b[0m\u001b[0;34m\"arrays must all be same length\"\u001b[0m\u001b[0;34m)\u001b[0m\u001b[0;34m\u001b[0m\u001b[0;34m\u001b[0m\u001b[0m\n\u001b[0m\u001b[1;32m    402\u001b[0m \u001b[0;34m\u001b[0m\u001b[0m\n\u001b[1;32m    403\u001b[0m             \u001b[0;32mif\u001b[0m \u001b[0mhave_dicts\u001b[0m\u001b[0;34m:\u001b[0m\u001b[0;34m\u001b[0m\u001b[0;34m\u001b[0m\u001b[0m\n",
      "\u001b[0;31mValueError\u001b[0m: arrays must all be same length"
     ]
    }
   ],
   "source": [
    "final_results2 = pd.DataFrame({\"Target\": targets2, \"Red_Original\": r_or, \"Red_Output\": r_out})"
   ]
  },
  {
   "cell_type": "code",
   "execution_count": 63,
   "metadata": {},
   "outputs": [
    {
     "data": {
      "text/plain": [
       "(3780, 3780, 0)"
      ]
     },
     "execution_count": 63,
     "metadata": {},
     "output_type": "execute_result"
    }
   ],
   "source": [
    "len(r_or), len(r_out), len(targets2)"
   ]
  },
  {
   "cell_type": "code",
   "execution_count": null,
   "metadata": {},
   "outputs": [],
   "source": [
    "pred = gb_classifier.predict_proba(final_results2.drop(columns=['Target']))"
   ]
  },
  {
   "cell_type": "code",
   "execution_count": null,
   "metadata": {},
   "outputs": [
    {
     "name": "stdout",
     "output_type": "stream",
     "text": [
      "Confusion matrix patches:\n",
      "[[   0    0]\n",
      " [3245  535]]\n"
     ]
    },
    {
     "data": {
      "text/plain": [
       "(0.14153439153439154, 0.14153439153439154)"
      ]
     },
     "execution_count": 57,
     "metadata": {},
     "output_type": "execute_result"
    }
   ],
   "source": [
    "predicted_labels2 = [0 if p < 0.5 else 1 for p in pred[:,1]]\n",
    "\n",
    "# Calculate the confusion matrix\n",
    "confusion_matrix2 = confusion_matrix(final_results2['Target'], predicted_labels2)\n",
    "\n",
    "# Print the confusion matrix\n",
    "print(\"Confusion matrix patches:\")\n",
    "print(confusion_matrix2)\n",
    "\n",
    "recall_score(final_results2['Target'], predicted_labels2), accuracy_score(final_results2['Target'], predicted_labels2)"
   ]
  },
  {
   "cell_type": "markdown",
   "metadata": {},
   "source": [
    "### Fem predict proba x saber la prob de cada pacient de ser 1 o 0, és a dir, de tenir h. pylori (o cm s digui) o no"
   ]
  },
  {
   "cell_type": "code",
   "execution_count": 21,
   "metadata": {},
   "outputs": [],
   "source": [
    "y_pred = gb_classifier2.predict_proba(df_test.drop(columns=['target']))"
   ]
  },
  {
   "cell_type": "code",
   "execution_count": 25,
   "metadata": {},
   "outputs": [
    {
     "name": "stdout",
     "output_type": "stream",
     "text": [
      "Confusion matrix patches:\n",
      "[[108   9]\n",
      " [ 11  61]]\n"
     ]
    },
    {
     "data": {
      "text/plain": [
       "(0.8472222222222222, 0.8941798941798942)"
      ]
     },
     "execution_count": 25,
     "metadata": {},
     "output_type": "execute_result"
    }
   ],
   "source": [
    "predicted_labels2 = [0 if p < 0.5 else 1 for p in y_pred[:,1]]\n",
    "\n",
    "# Calculate the confusion matrix\n",
    "confusion_matrix2 = confusion_matrix(df_test['target'], predicted_labels2)\n",
    "\n",
    "# Print the confusion matrix\n",
    "print(\"Confusion matrix patches:\")\n",
    "print(confusion_matrix2)\n",
    "\n",
    "recall_score(df_test['target'], predicted_labels2), accuracy_score(df_test['target'], predicted_labels2)"
   ]
  },
  {
   "cell_type": "code",
   "execution_count": 26,
   "metadata": {},
   "outputs": [],
   "source": [
    "from utils import * "
   ]
  },
  {
   "cell_type": "code",
   "execution_count": null,
   "metadata": {},
   "outputs": [],
   "source": [
    "plot_confusion_matrix(df_test['target'], predicted_labels2, '/fhome/mapsiv01/PSIV3_malaltia/autoencoder/plots', 'CM_xgb_pat')"
   ]
  },
  {
   "cell_type": "markdown",
   "metadata": {},
   "source": [
    "### Útilitzem threshold 0.5 x decidir la classe donades les prob retornades x l'xgboost"
   ]
  },
  {
   "cell_type": "markdown",
   "metadata": {},
   "source": [
    "# Això només és una prova fent servir únicament la resta xq mirant aquest dataset sembla bastant determinant"
   ]
  },
  {
   "cell_type": "code",
   "execution_count": 24,
   "metadata": {},
   "outputs": [
    {
     "data": {
      "text/html": [
       "<div>\n",
       "<style scoped>\n",
       "    .dataframe tbody tr th:only-of-type {\n",
       "        vertical-align: middle;\n",
       "    }\n",
       "\n",
       "    .dataframe tbody tr th {\n",
       "        vertical-align: top;\n",
       "    }\n",
       "\n",
       "    .dataframe thead th {\n",
       "        text-align: right;\n",
       "    }\n",
       "</style>\n",
       "<table border=\"1\" class=\"dataframe\">\n",
       "  <thead>\n",
       "    <tr style=\"text-align: right;\">\n",
       "      <th></th>\n",
       "      <th>max</th>\n",
       "      <th>mean</th>\n",
       "      <th>std</th>\n",
       "      <th>prop</th>\n",
       "      <th>q1</th>\n",
       "      <th>q2</th>\n",
       "      <th>q3</th>\n",
       "      <th>resta</th>\n",
       "      <th>target</th>\n",
       "    </tr>\n",
       "  </thead>\n",
       "  <tbody>\n",
       "    <tr>\n",
       "      <th>0</th>\n",
       "      <td>0</td>\n",
       "      <td>0.00</td>\n",
       "      <td>0.000000</td>\n",
       "      <td>0.00</td>\n",
       "      <td>0</td>\n",
       "      <td>0</td>\n",
       "      <td>0</td>\n",
       "      <td>0</td>\n",
       "      <td>0</td>\n",
       "    </tr>\n",
       "    <tr>\n",
       "      <th>1</th>\n",
       "      <td>0</td>\n",
       "      <td>0.00</td>\n",
       "      <td>0.000000</td>\n",
       "      <td>0.00</td>\n",
       "      <td>0</td>\n",
       "      <td>0</td>\n",
       "      <td>0</td>\n",
       "      <td>9</td>\n",
       "      <td>0</td>\n",
       "    </tr>\n",
       "    <tr>\n",
       "      <th>2</th>\n",
       "      <td>1</td>\n",
       "      <td>0.20</td>\n",
       "      <td>0.400000</td>\n",
       "      <td>0.20</td>\n",
       "      <td>0</td>\n",
       "      <td>1</td>\n",
       "      <td>1</td>\n",
       "      <td>14</td>\n",
       "      <td>1</td>\n",
       "    </tr>\n",
       "    <tr>\n",
       "      <th>3</th>\n",
       "      <td>1</td>\n",
       "      <td>0.10</td>\n",
       "      <td>0.300000</td>\n",
       "      <td>0.10</td>\n",
       "      <td>0</td>\n",
       "      <td>0</td>\n",
       "      <td>1</td>\n",
       "      <td>19</td>\n",
       "      <td>1</td>\n",
       "    </tr>\n",
       "    <tr>\n",
       "      <th>4</th>\n",
       "      <td>1</td>\n",
       "      <td>0.05</td>\n",
       "      <td>0.217945</td>\n",
       "      <td>0.05</td>\n",
       "      <td>0</td>\n",
       "      <td>0</td>\n",
       "      <td>0</td>\n",
       "      <td>4</td>\n",
       "      <td>0</td>\n",
       "    </tr>\n",
       "    <tr>\n",
       "      <th>...</th>\n",
       "      <td>...</td>\n",
       "      <td>...</td>\n",
       "      <td>...</td>\n",
       "      <td>...</td>\n",
       "      <td>...</td>\n",
       "      <td>...</td>\n",
       "      <td>...</td>\n",
       "      <td>...</td>\n",
       "      <td>...</td>\n",
       "    </tr>\n",
       "    <tr>\n",
       "      <th>184</th>\n",
       "      <td>1</td>\n",
       "      <td>0.75</td>\n",
       "      <td>0.433013</td>\n",
       "      <td>0.75</td>\n",
       "      <td>1</td>\n",
       "      <td>1</td>\n",
       "      <td>1</td>\n",
       "      <td>230</td>\n",
       "      <td>1</td>\n",
       "    </tr>\n",
       "    <tr>\n",
       "      <th>185</th>\n",
       "      <td>0</td>\n",
       "      <td>0.00</td>\n",
       "      <td>0.000000</td>\n",
       "      <td>0.00</td>\n",
       "      <td>0</td>\n",
       "      <td>0</td>\n",
       "      <td>0</td>\n",
       "      <td>0</td>\n",
       "      <td>0</td>\n",
       "    </tr>\n",
       "    <tr>\n",
       "      <th>186</th>\n",
       "      <td>1</td>\n",
       "      <td>0.45</td>\n",
       "      <td>0.497494</td>\n",
       "      <td>0.45</td>\n",
       "      <td>1</td>\n",
       "      <td>1</td>\n",
       "      <td>1</td>\n",
       "      <td>267</td>\n",
       "      <td>1</td>\n",
       "    </tr>\n",
       "    <tr>\n",
       "      <th>187</th>\n",
       "      <td>0</td>\n",
       "      <td>0.00</td>\n",
       "      <td>0.000000</td>\n",
       "      <td>0.00</td>\n",
       "      <td>0</td>\n",
       "      <td>0</td>\n",
       "      <td>0</td>\n",
       "      <td>9</td>\n",
       "      <td>0</td>\n",
       "    </tr>\n",
       "    <tr>\n",
       "      <th>188</th>\n",
       "      <td>1</td>\n",
       "      <td>0.05</td>\n",
       "      <td>0.217945</td>\n",
       "      <td>0.05</td>\n",
       "      <td>0</td>\n",
       "      <td>0</td>\n",
       "      <td>0</td>\n",
       "      <td>7</td>\n",
       "      <td>0</td>\n",
       "    </tr>\n",
       "  </tbody>\n",
       "</table>\n",
       "<p>189 rows × 9 columns</p>\n",
       "</div>"
      ],
      "text/plain": [
       "     max  mean       std  prop  q1  q2  q3  resta  target\n",
       "0      0  0.00  0.000000  0.00   0   0   0      0       0\n",
       "1      0  0.00  0.000000  0.00   0   0   0      9       0\n",
       "2      1  0.20  0.400000  0.20   0   1   1     14       1\n",
       "3      1  0.10  0.300000  0.10   0   0   1     19       1\n",
       "4      1  0.05  0.217945  0.05   0   0   0      4       0\n",
       "..   ...   ...       ...   ...  ..  ..  ..    ...     ...\n",
       "184    1  0.75  0.433013  0.75   1   1   1    230       1\n",
       "185    0  0.00  0.000000  0.00   0   0   0      0       0\n",
       "186    1  0.45  0.497494  0.45   1   1   1    267       1\n",
       "187    0  0.00  0.000000  0.00   0   0   0      9       0\n",
       "188    1  0.05  0.217945  0.05   0   0   0      7       0\n",
       "\n",
       "[189 rows x 9 columns]"
      ]
     },
     "execution_count": 24,
     "metadata": {},
     "output_type": "execute_result"
    }
   ],
   "source": [
    "df_test"
   ]
  },
  {
   "cell_type": "code",
   "execution_count": 25,
   "metadata": {},
   "outputs": [],
   "source": [
    "def plot_auc(fpr, tpr, roc_auc):\n",
    "    plt.figure(figsize=(8, 6))\n",
    "    plt.plot(fpr, tpr, color='darkorange', lw=2, label=f'ROC curve patches (AUC = {roc_auc:.2f})')\n",
    "    plt.plot([0, 1], [0, 1], color='navy', lw=2, linestyle='--')\n",
    "    plt.xlim([0.0, 1.0])\n",
    "    plt.ylim([0.0, 1.05])\n",
    "    plt.xlabel('False Positive Rate')\n",
    "    plt.ylabel('True Positive Rate')\n",
    "    plt.title('Receiver Operating Characteristic')\n",
    "    plt.legend(loc='lower right')\n",
    "    plt.savefig(f\"{PLOT_LOSS_DIR}ROCcurve2.png\")"
   ]
  },
  {
   "cell_type": "code",
   "execution_count": 26,
   "metadata": {},
   "outputs": [
    {
     "data": {
      "image/png": "[encoded data removed]",
      "text/plain": [
       "<Figure size 576x432 with 1 Axes>"
      ]
     },
     "metadata": {
      "needs_background": "light"
     },
     "output_type": "display_data"
    }
   ],
   "source": [
    "fpr, tpr, thresholds = roc_curve(df_test['target'], df_test['q3'])\n",
    "roc_auc = auc(fpr, tpr)\n",
    "plot_auc(fpr, tpr, roc_auc)"
   ]
  },
  {
   "cell_type": "code",
   "execution_count": 27,
   "metadata": {},
   "outputs": [
    {
     "name": "stdout",
     "output_type": "stream",
     "text": [
      "1\n"
     ]
    }
   ],
   "source": [
    "J2 = tpr - fpr\n",
    "best_threshold = thresholds[np.argmax(J2)]\n",
    "print(best_threshold)"
   ]
  },
  {
   "cell_type": "code",
   "execution_count": 28,
   "metadata": {},
   "outputs": [
    {
     "name": "stdout",
     "output_type": "stream",
     "text": [
      "Confusion matrix patches:\n",
      "[[107  10]\n",
      " [  3  69]]\n"
     ]
    },
    {
     "data": {
      "text/plain": [
       "(0.9583333333333334, 0.9312169312169312)"
      ]
     },
     "execution_count": 28,
     "metadata": {},
     "output_type": "execute_result"
    }
   ],
   "source": [
    "\n",
    "predicted_labels2 = [1 if r >= best_threshold else 0 for r in df_test['q3']]\n",
    "\n",
    "# Calculate the confusion matrix\n",
    "confusion_matrix2 = confusion_matrix(df_test['target'], predicted_labels2)\n",
    "\n",
    "# Print the confusion matrix\n",
    "print(\"Confusion matrix patches:\")\n",
    "print(confusion_matrix2)\n",
    "\n",
    "recall_score(df_test['target'], predicted_labels2), accuracy_score(df_test['target'], predicted_labels2)"
   ]
  },
  {
   "cell_type": "markdown",
   "metadata": {},
   "source": [
    "# Aquí acaba la prova ^"
   ]
  },
  {
   "cell_type": "code",
   "execution_count": 29,
   "metadata": {},
   "outputs": [
    {
     "data": {
      "text/html": [
       "<div>\n",
       "<style scoped>\n",
       "    .dataframe tbody tr th:only-of-type {\n",
       "        vertical-align: middle;\n",
       "    }\n",
       "\n",
       "    .dataframe tbody tr th {\n",
       "        vertical-align: top;\n",
       "    }\n",
       "\n",
       "    .dataframe thead th {\n",
       "        text-align: right;\n",
       "    }\n",
       "</style>\n",
       "<table border=\"1\" class=\"dataframe\">\n",
       "  <thead>\n",
       "    <tr style=\"text-align: right;\">\n",
       "      <th></th>\n",
       "      <th>max</th>\n",
       "      <th>mean</th>\n",
       "      <th>std</th>\n",
       "      <th>prop</th>\n",
       "      <th>q1</th>\n",
       "      <th>q2</th>\n",
       "      <th>q3</th>\n",
       "      <th>resta</th>\n",
       "      <th>target</th>\n",
       "    </tr>\n",
       "  </thead>\n",
       "  <tbody>\n",
       "    <tr>\n",
       "      <th>max</th>\n",
       "      <td>1.000000</td>\n",
       "      <td>0.648629</td>\n",
       "      <td>0.924479</td>\n",
       "      <td>0.648629</td>\n",
       "      <td>0.478516</td>\n",
       "      <td>0.606890</td>\n",
       "      <td>0.782666</td>\n",
       "      <td>0.397537</td>\n",
       "      <td>0.680772</td>\n",
       "    </tr>\n",
       "    <tr>\n",
       "      <th>mean</th>\n",
       "      <td>0.648629</td>\n",
       "      <td>1.000000</td>\n",
       "      <td>0.827243</td>\n",
       "      <td>1.000000</td>\n",
       "      <td>0.875223</td>\n",
       "      <td>0.857897</td>\n",
       "      <td>0.767755</td>\n",
       "      <td>0.708528</td>\n",
       "      <td>0.776789</td>\n",
       "    </tr>\n",
       "    <tr>\n",
       "      <th>std</th>\n",
       "      <td>0.924479</td>\n",
       "      <td>0.827243</td>\n",
       "      <td>1.000000</td>\n",
       "      <td>0.827243</td>\n",
       "      <td>0.703244</td>\n",
       "      <td>0.834680</td>\n",
       "      <td>0.913799</td>\n",
       "      <td>0.519006</td>\n",
       "      <td>0.847548</td>\n",
       "    </tr>\n",
       "    <tr>\n",
       "      <th>prop</th>\n",
       "      <td>0.648629</td>\n",
       "      <td>1.000000</td>\n",
       "      <td>0.827243</td>\n",
       "      <td>1.000000</td>\n",
       "      <td>0.875223</td>\n",
       "      <td>0.857897</td>\n",
       "      <td>0.767755</td>\n",
       "      <td>0.708528</td>\n",
       "      <td>0.776789</td>\n",
       "    </tr>\n",
       "    <tr>\n",
       "      <th>q1</th>\n",
       "      <td>0.478516</td>\n",
       "      <td>0.875223</td>\n",
       "      <td>0.703244</td>\n",
       "      <td>0.875223</td>\n",
       "      <td>1.000000</td>\n",
       "      <td>0.788472</td>\n",
       "      <td>0.611392</td>\n",
       "      <td>0.612781</td>\n",
       "      <td>0.660486</td>\n",
       "    </tr>\n",
       "    <tr>\n",
       "      <th>q2</th>\n",
       "      <td>0.606890</td>\n",
       "      <td>0.857897</td>\n",
       "      <td>0.834680</td>\n",
       "      <td>0.857897</td>\n",
       "      <td>0.788472</td>\n",
       "      <td>1.000000</td>\n",
       "      <td>0.775413</td>\n",
       "      <td>0.542213</td>\n",
       "      <td>0.837678</td>\n",
       "    </tr>\n",
       "    <tr>\n",
       "      <th>q3</th>\n",
       "      <td>0.782666</td>\n",
       "      <td>0.767755</td>\n",
       "      <td>0.913799</td>\n",
       "      <td>0.767755</td>\n",
       "      <td>0.611392</td>\n",
       "      <td>0.775413</td>\n",
       "      <td>1.000000</td>\n",
       "      <td>0.483393</td>\n",
       "      <td>0.859400</td>\n",
       "    </tr>\n",
       "    <tr>\n",
       "      <th>resta</th>\n",
       "      <td>0.397537</td>\n",
       "      <td>0.708528</td>\n",
       "      <td>0.519006</td>\n",
       "      <td>0.708528</td>\n",
       "      <td>0.612781</td>\n",
       "      <td>0.542213</td>\n",
       "      <td>0.483393</td>\n",
       "      <td>1.000000</td>\n",
       "      <td>0.473678</td>\n",
       "    </tr>\n",
       "    <tr>\n",
       "      <th>target</th>\n",
       "      <td>0.680772</td>\n",
       "      <td>0.776789</td>\n",
       "      <td>0.847548</td>\n",
       "      <td>0.776789</td>\n",
       "      <td>0.660486</td>\n",
       "      <td>0.837678</td>\n",
       "      <td>0.859400</td>\n",
       "      <td>0.473678</td>\n",
       "      <td>1.000000</td>\n",
       "    </tr>\n",
       "  </tbody>\n",
       "</table>\n",
       "</div>"
      ],
      "text/plain": [
       "             max      mean       std      prop        q1        q2        q3  \\\n",
       "max     1.000000  0.648629  0.924479  0.648629  0.478516  0.606890  0.782666   \n",
       "mean    0.648629  1.000000  0.827243  1.000000  0.875223  0.857897  0.767755   \n",
       "std     0.924479  0.827243  1.000000  0.827243  0.703244  0.834680  0.913799   \n",
       "prop    0.648629  1.000000  0.827243  1.000000  0.875223  0.857897  0.767755   \n",
       "q1      0.478516  0.875223  0.703244  0.875223  1.000000  0.788472  0.611392   \n",
       "q2      0.606890  0.857897  0.834680  0.857897  0.788472  1.000000  0.775413   \n",
       "q3      0.782666  0.767755  0.913799  0.767755  0.611392  0.775413  1.000000   \n",
       "resta   0.397537  0.708528  0.519006  0.708528  0.612781  0.542213  0.483393   \n",
       "target  0.680772  0.776789  0.847548  0.776789  0.660486  0.837678  0.859400   \n",
       "\n",
       "           resta    target  \n",
       "max     0.397537  0.680772  \n",
       "mean    0.708528  0.776789  \n",
       "std     0.519006  0.847548  \n",
       "prop    0.708528  0.776789  \n",
       "q1      0.612781  0.660486  \n",
       "q2      0.542213  0.837678  \n",
       "q3      0.483393  0.859400  \n",
       "resta   1.000000  0.473678  \n",
       "target  0.473678  1.000000  "
      ]
     },
     "execution_count": 29,
     "metadata": {},
     "output_type": "execute_result"
    }
   ],
   "source": [
    "df_test.corr()"
   ]
  }
 ],
 "metadata": {
  "kernelspec": {
   "display_name": "psiv1",
   "language": "python",
   "name": "python3"
  },
  "language_info": {
   "codemirror_mode": {
    "name": "ipython",
    "version": 3
   },
   "file_extension": ".py",
   "mimetype": "text/x-python",
   "name": "python",
   "nbconvert_exporter": "python",
   "pygments_lexer": "ipython3",
   "version": "3.10.11"
  }
 },
 "nbformat": 4,
 "nbformat_minor": 2
}
