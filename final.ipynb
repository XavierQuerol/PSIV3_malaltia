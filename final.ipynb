{
 "cells": [
  {
   "cell_type": "code",
   "execution_count": 8,
   "metadata": {},
   "outputs": [],
   "source": [
    "import numpy as np\n",
    "from sklearn.metrics import roc_curve, auc, recall_score, accuracy_score, precision_score\n",
    "import matplotlib.pyplot as plt\n",
    "import torch\n",
    "from torchvision import models\n",
    "from torchvision.io import read_image\n",
    "from torchvision import transforms\n",
    "import torch.nn as nn\n",
    "import pandas as pd\n",
    "from config import *\n",
    "import random\n",
    "import os\n",
    "\n",
    "from itertools import product\n"
   ]
  },
  {
   "cell_type": "markdown",
   "metadata": {},
   "source": [
    "#### Llegir models"
   ]
  },
  {
   "cell_type": "code",
   "execution_count": 9,
   "metadata": {},
   "outputs": [
    {
     "data": {
      "text/plain": [
       "<All keys matched successfully>"
      ]
     },
     "execution_count": 9,
     "metadata": {},
     "output_type": "execute_result"
    }
   ],
   "source": [
    "from config import SAVE_MODEL_DIR\n",
    "\n",
    "from model_CNN_MlpClassifier import Classifier\n",
    "model_our = Classifier()\n",
    "model_our.load_state_dict(torch.load(f\"{SAVE_MODEL_DIR}model_MLPour_classifier.pth\", map_location=torch.device('cpu')))\n",
    "\n",
    "\n",
    "model_resnet = models.resnet50(pretrained=True)\n",
    "for param in model_resnet.parameters():\n",
    "    param.requires_grad = False\n",
    "num_ftrs = model_resnet.fc.in_features\n",
    "model_resnet.fc = nn.Sequential(\n",
    "nn.Linear(num_ftrs, 128),  # Replace the last fully connected layer with your custom layers\n",
    "nn.ReLU(),\n",
    "nn.Dropout(0.5),\n",
    "nn.Linear(128, 2)  # Assuming your final output has 2 classes, modify this as needed\n",
    "    )\n",
    "model_resnet.load_state_dict(torch.load(f\"{SAVE_MODEL_DIR}model_MLPresnet.pth\", map_location=torch.device('cpu')))\n"
   ]
  },
  {
   "cell_type": "code",
   "execution_count": 10,
   "metadata": {},
   "outputs": [],
   "source": [
    "transform = transforms.Compose([\n",
    "    transforms.Resize((128, 128), antialias=True),\n",
    "    transforms.Normalize(mean=[0.485, 0.456, 0.406], std=[0.229, 0.224, 0.225])  # Adjust mean and std as needed\n",
    "])\n",
    "\n",
    "def read_img(file, dir):\n",
    "    img = read_image(os.path.join(dir, file))[:-1,:,:]\n",
    "    img = img.to(torch.float32)\n",
    "    img = img/255\n",
    "    img = transform(img)\n",
    "    return img"
   ]
  },
  {
   "cell_type": "markdown",
   "metadata": {},
   "source": [
    "#### Funció per calcular mètriques per un Fold"
   ]
  },
  {
   "cell_type": "code",
   "execution_count": 11,
   "metadata": {},
   "outputs": [],
   "source": [
    "def create_crossval(pred, target):\n",
    "       \n",
    "    combined = list(zip(pred, target))\n",
    "\n",
    "    random.shuffle(combined)\n",
    "\n",
    "    pred, target = zip(*combined)\n",
    "\n",
    "    interval = int(len(pred)/10)\n",
    "\n",
    "    kfolds = [(pred[:interval*i]+pred[interval*i+1:], target[:interval*i]+target[interval*i+1:],\n",
    "               pred[interval*i:interval*(i+1)], target[interval*i:interval*(i+1)]) for i in range(10)]\n",
    "    \n",
    "    return kfolds\n",
    "\n",
    "def calculate_mean_error(data):\n",
    "    mean = np.mean(data)\n",
    "    std_dev = np.std(data, ddof=1)  # ddof=1 for sample standard deviation\n",
    "    sample_size = len(data)\n",
    "\n",
    "    # Calculate the t-distribution critical value\n",
    "    t_critical = 2.262\n",
    "\n",
    "    # Calculate the margin of error\n",
    "    margin_of_error = t_critical * (std_dev / np.sqrt(sample_size))\n",
    "\n",
    "    return f\"{mean} +/- {margin_of_error}\"\n",
    "\n",
    "       \n",
    "\n",
    "def calculate_metrics(pred, target):\n",
    "\n",
    "    recalls, precisions, f1_scores = [], [], []\n",
    "\n",
    "    kfolds = create_crossval(pred, target)\n",
    "\n",
    "    for (pred_train, target_train, pred_test, target_test) in kfolds:\n",
    "        df = pd.DataFrame({\"Target\": target_train, \"Predicted\": pred_train})\n",
    "        fpr, tpr, thresholds = roc_curve(df['Target'], df['Predicted'])\n",
    "\n",
    "        J2 = tpr - fpr  \n",
    "        best_threshold = thresholds[np.argmax(J2)]\n",
    "\n",
    "        pred_test = [0 if prob < best_threshold else 1 for prob in pred_test]\n",
    "\n",
    "\n",
    "        recall = recall_score(pred_test, target_test)\n",
    "        precision = precision_score(pred_test, target_test)\n",
    "        f1_score = (2*recall*precision)/(recall+precision)\n",
    "\n",
    "        recalls.append(recall)\n",
    "        precisions.append(precision)\n",
    "        f1_scores.append(f1_score)\n",
    "    \n",
    "    recall = calculate_mean_error(recalls)\n",
    "    precision = calculate_mean_error(precisions)\n",
    "    f1_score = calculate_mean_error(f1_scores)\n",
    "\n",
    "\n",
    "    return recall, precision, f1_score"
   ]
  },
  {
   "cell_type": "code",
   "execution_count": 12,
   "metadata": {},
   "outputs": [],
   "source": [
    "directories_cr = [dir.path for dir in os.scandir(CROPPED_PATCHES_DIR) if dir.is_dir()]\n",
    "metadata = pd.read_csv(METADATA_FILE)"
   ]
  },
  {
   "cell_type": "code",
   "execution_count": 13,
   "metadata": {},
   "outputs": [],
   "source": [
    "def calcula(model, method, amb_baixa):\n",
    "\n",
    "    device = torch.device(\"cuda\" if torch.cuda.is_available() else \"cpu\")\n",
    "\n",
    "\n",
    "    model_name = model[0]\n",
    "    model = model[1]\n",
    "    model = model.to(device)\n",
    "\n",
    "    preds = []\n",
    "    targets = []\n",
    "\n",
    "    for dir in directories_cr:\n",
    "        if metadata.loc[metadata[\"CODI\"] == dir.split(\"/\")[-1].split(\"_\")[0], \"DENSITAT\"].values[0] == \"NEGATIVA\":\n",
    "            target = 0\n",
    "        elif metadata.loc[metadata[\"CODI\"] == dir.split(\"/\")[-1].split(\"_\")[0], \"DENSITAT\"].values[0] == \"ALTA\":\n",
    "            target = 1\n",
    "        else:\n",
    "            if amb_baixa:\n",
    "                target = 1\n",
    "            else:\n",
    "                continue\n",
    "        \n",
    "        files = os.listdir(dir)\n",
    "        random.shuffle(files)\n",
    "\n",
    "        pred_patches = []\n",
    "        imgs = []\n",
    "        for file in files[:30]:\n",
    "            img = read_img(file, dir)\n",
    "            imgs.append(img)\n",
    "\n",
    "        stacked_imgs = torch.stack(imgs)  # This creates a tensor of shape (num_images, channels, height, width)\n",
    "        \n",
    "        model.eval()\n",
    "        with torch.no_grad():\n",
    "            output = model(stacked_imgs.to(device))\n",
    "            output = torch.sigmoid(output)\n",
    "            pred_patches = []\n",
    "        for i in range(output.shape[0]):\n",
    "            output2 = output[i, :]\n",
    "            if method == \"prob\":\n",
    "                output2 = output2[torch.argmax(output2).item()].item()\n",
    "            elif method == \"discrete\":\n",
    "                output2 = torch.argmax(output2).item()\n",
    "            pred_patches.append(output2)\n",
    "        \n",
    "        preds.append(sum(pred_patches)/len(files))\n",
    "        targets.append(target)\n",
    "\n",
    "\n",
    "    recall, precision, f1_score = calculate_metrics(preds, targets)\n",
    "\n",
    "    print(f\"Model: {model_name}, Method: {method}, Baixa: {amb_baixa}\")\n",
    "    print(f\"Recall: {recall}, Precision: {precision}, F1_score: {f1_score}\\n\")"
   ]
  },
  {
   "cell_type": "code",
   "execution_count": 14,
   "metadata": {},
   "outputs": [
    {
     "name": "stdout",
     "output_type": "stream",
     "text": [
      "Model: our, Method: prob, Baixa: True\n",
      "Recall: 0.6156958401076048 +/- 0.0957358474331224, Precision: 0.8137026862026862 +/- 0.08803852515587317, F1_score: 0.6899049870226177 +/- 0.07223153244155302\n",
      "\n",
      "Model: our, Method: prob, Baixa: False\n",
      "Recall: 0.44752289377289384 +/- 0.12446109276546002, Precision: 0.8432900432900434 +/- 0.11526827982230767, F1_score: 0.572582180087901 +/- 0.13258618256561808\n",
      "\n",
      "Model: our, Method: discrete, Baixa: True\n",
      "Recall: 0.8582900432900432 +/- 0.0976471101971732, Precision: 0.4510742473900368 +/- 0.08804536328497796, F1_score: 0.5793056839960864 +/- 0.07985499310400274\n",
      "\n",
      "Model: our, Method: discrete, Baixa: False\n",
      "Recall: 0.7654761904761904 +/- 0.1735007297553056, Precision: 0.6380952380952382 +/- 0.13550896669380133, F1_score: 0.6737803862803863 +/- 0.12427110536189519\n",
      "\n",
      "Model: resnet, Method: prob, Baixa: True\n",
      "Recall: 0.5957623224728488 +/- 0.1136492459413236, Precision: 0.7515492840492841 +/- 0.0894329550122245, F1_score: 0.6595293746553033 +/- 0.10042914431383018\n",
      "\n",
      "Model: resnet, Method: prob, Baixa: False\n",
      "Recall: 0.47269314019314024 +/- 0.11668437727326664, Precision: 0.7563888888888889 +/- 0.13140381534781614, F1_score: 0.5659914492112634 +/- 0.11112738868612425\n",
      "\n",
      "Model: resnet, Method: discrete, Baixa: True\n",
      "Recall: 0.9690476190476192 +/- 0.04684849150679865, Precision: 0.553974358974359 +/- 0.10502329524655205, F1_score: 0.6966006817400006 +/- 0.08818988442890165\n",
      "\n",
      "Model: resnet, Method: discrete, Baixa: False\n",
      "Recall: 0.9466666666666667 +/- 0.08350925856853637, Precision: 0.5977777777777779 +/- 0.1691450938755297, F1_score: 0.7074403374403374 +/- 0.11585381521823224\n",
      "\n"
     ]
    }
   ],
   "source": [
    "models = [[\"our\", model_our], [\"resnet\", model_resnet]]\n",
    "methods = [\"prob\", \"discrete\"]\n",
    "amb_baixa = [True, False]\n",
    "\n",
    "for (model, method, amb_baixa) in product(models, methods, amb_baixa):\n",
    "    calcula(model, method, amb_baixa)"
   ]
  }
 ],
 "metadata": {
  "kernelspec": {
   "display_name": "psiv1",
   "language": "python",
   "name": "python3"
  },
  "language_info": {
   "codemirror_mode": {
    "name": "ipython",
    "version": 3
   },
   "file_extension": ".py",
   "mimetype": "text/x-python",
   "name": "python",
   "nbconvert_exporter": "python",
   "pygments_lexer": "ipython3",
   "version": "3.8.10"
  }
 },
 "nbformat": 4,
 "nbformat_minor": 2
}
